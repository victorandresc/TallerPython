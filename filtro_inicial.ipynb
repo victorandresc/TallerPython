{
 "cells": [
  {
   "cell_type": "code",
   "execution_count": 348,
   "id": "59b4ecc9-34b9-49a0-b491-6738f5970e1c",
   "metadata": {},
   "outputs": [
    {
     "name": "stdout",
     "output_type": "stream",
     "text": [
      "Defaulting to user installation because normal site-packages is not writeable\n",
      "Looking in links: /usr/share/pip-wheels\n",
      "Requirement already satisfied: pandas in /home/0bcb532b-519e-4f94-8497-1198431f3b3f/.local/lib/python3.10/site-packages (2.2.3)\n",
      "Requirement already satisfied: openpyxl in /home/0bcb532b-519e-4f94-8497-1198431f3b3f/.local/lib/python3.10/site-packages (3.1.5)\n",
      "Requirement already satisfied: numpy>=1.22.4 in /opt/conda/envs/anaconda-2024.02-py310/lib/python3.10/site-packages (from pandas) (1.26.4)\n",
      "Requirement already satisfied: python-dateutil>=2.8.2 in /opt/conda/envs/anaconda-2024.02-py310/lib/python3.10/site-packages (from pandas) (2.8.2)\n",
      "Requirement already satisfied: pytz>=2020.1 in /opt/conda/envs/anaconda-2024.02-py310/lib/python3.10/site-packages (from pandas) (2023.3.post1)\n",
      "Requirement already satisfied: tzdata>=2022.7 in /opt/conda/envs/anaconda-2024.02-py310/lib/python3.10/site-packages (from pandas) (2023.3)\n",
      "Requirement already satisfied: et-xmlfile in /opt/conda/envs/anaconda-2024.02-py310/lib/python3.10/site-packages (from openpyxl) (1.1.0)\n",
      "Requirement already satisfied: six>=1.5 in /opt/conda/envs/anaconda-2024.02-py310/lib/python3.10/site-packages (from python-dateutil>=2.8.2->pandas) (1.16.0)\n",
      "Note: you may need to restart the kernel to use updated packages.\n"
     ]
    }
   ],
   "source": [
    "pip install pandas openpyxl"
   ]
  },
  {
   "cell_type": "code",
   "execution_count": 349,
   "id": "3e370179-d86b-454c-a1da-0cd184a0c127",
   "metadata": {},
   "outputs": [],
   "source": [
    "import pandas as pd "
   ]
  },
  {
   "cell_type": "code",
   "execution_count": 350,
   "id": "84a2d94b-048d-4f98-a085-14a683fc0388",
   "metadata": {},
   "outputs": [],
   "source": [
    "ventas=pd.read_excel('Base_control_2.xlsx', sheet_name=\"detalle\")\n"
   ]
  },
  {
   "cell_type": "code",
   "execution_count": 351,
   "id": "80d787e4-0832-471d-a28f-22880870e52d",
   "metadata": {},
   "outputs": [
    {
     "name": "stdout",
     "output_type": "stream",
     "text": [
      "   ID_operacion Fecha creacion operación  Monto factura  \\\n",
      "0         68101               2024-12-31      1832600.0   \n",
      "1         68100               2024-12-31       535500.0   \n",
      "2         68099               2024-12-31      2677500.0   \n",
      "3         68098               2024-12-31      1523676.0   \n",
      "4         68097               2024-12-31      5176500.0   \n",
      "\n",
      "  Nombre empresa solicitante Nombre Ejecutivo  Ingreso por operación      IVA  \\\n",
      "0                Cliente 934      Ejecutivo 5                  30055   5710.0   \n",
      "1                Cliente 934      Ejecutivo 5                   8782   1669.0   \n",
      "2                Cliente 934      Ejecutivo 5                  38556   7326.0   \n",
      "3                Cliente 934      Ejecutivo 5                  22550   4284.0   \n",
      "4                Cliente 934      Ejecutivo 5                  84895  16130.0   \n",
      "\n",
      "   Dias operación  Taa de interés a cliente  Interes  \\\n",
      "0            41.0                      1.15  28802.0   \n",
      "1            41.0                      1.15   8416.0   \n",
      "2            36.0                      1.15  36950.0   \n",
      "3            37.0                      1.15  21611.0   \n",
      "4            41.0                      1.15  81357.0   \n",
      "\n",
      "   Tasa interes inversionista  Unnamed: 11 Scoring riesgo Estado pago factura  \\\n",
      "0                         1.1          NaN            531          No Abonado   \n",
      "1                         1.1          NaN            630          No Abonado   \n",
      "2                         1.1          NaN            303          No Abonado   \n",
      "3                         1.1          NaN            531          No Abonado   \n",
      "4                         1.1          NaN            630          No Abonado   \n",
      "\n",
      "   Monto Abono  \n",
      "0          NaN  \n",
      "1          NaN  \n",
      "2          NaN  \n",
      "3          NaN  \n",
      "4          NaN  \n"
     ]
    }
   ],
   "source": [
    "print(ventas.head())"
   ]
  },
  {
   "cell_type": "code",
   "execution_count": 352,
   "id": "ba62034b-9b1f-463e-b7d8-91b30118cf41",
   "metadata": {},
   "outputs": [
    {
     "data": {
      "text/plain": [
       "(52857, 15)"
      ]
     },
     "execution_count": 352,
     "metadata": {},
     "output_type": "execute_result"
    }
   ],
   "source": [
    "ventas.shape"
   ]
  },
  {
   "cell_type": "code",
   "execution_count": 353,
   "id": "2e5996b5-ad8a-4d71-9e8d-2ae7490669ad",
   "metadata": {},
   "outputs": [],
   "source": [
    "ventas.drop_duplicates(inplace=True) #eliminamos datos duplicados "
   ]
  },
  {
   "cell_type": "code",
   "execution_count": 354,
   "id": "d45d69e3-a77c-40f3-8ce4-95d51a3ef32d",
   "metadata": {},
   "outputs": [
    {
     "data": {
      "text/plain": [
       "ID_operacion                      0\n",
       "Fecha creacion operación          2\n",
       "Monto factura                     3\n",
       "Nombre empresa solicitante        0\n",
       "Nombre Ejecutivo                  2\n",
       "Ingreso por operación             0\n",
       "IVA                            3128\n",
       "Dias operación                    2\n",
       "Taa de interés a cliente          2\n",
       "Interes                          14\n",
       "Tasa interes inversionista        2\n",
       "Unnamed: 11                   52857\n",
       "Scoring riesgo                    2\n",
       "Estado pago factura               0\n",
       "Monto Abono                    4183\n",
       "dtype: int64"
      ]
     },
     "execution_count": 354,
     "metadata": {},
     "output_type": "execute_result"
    }
   ],
   "source": [
    "ventas.isnull().sum()"
   ]
  },
  {
   "cell_type": "code",
   "execution_count": 355,
   "id": "0e6a9202-4a65-474f-987d-6c1c31b98767",
   "metadata": {},
   "outputs": [],
   "source": [
    "ventas.drop(columns=['Unnamed: 11'], inplace=True) #eliminar columna sin registros"
   ]
  },
  {
   "cell_type": "code",
   "execution_count": 356,
   "id": "f786a83a-de28-4ea5-a40a-6b3985a8a1a9",
   "metadata": {},
   "outputs": [
    {
     "data": {
      "text/plain": [
       "(52857, 14)"
      ]
     },
     "execution_count": 356,
     "metadata": {},
     "output_type": "execute_result"
    }
   ],
   "source": [
    "ventas.shape"
   ]
  },
  {
   "cell_type": "code",
   "execution_count": 357,
   "id": "2e970555-88e1-46cb-8f20-955d6304f2fa",
   "metadata": {},
   "outputs": [
    {
     "data": {
      "text/plain": [
       "Index(['ID_operacion', 'Fecha creacion operación', 'Monto factura',\n",
       "       'Nombre empresa solicitante', 'Nombre Ejecutivo',\n",
       "       'Ingreso por operación', 'IVA', 'Dias operación',\n",
       "       'Taa de interés a cliente', 'Interes', 'Tasa interes inversionista',\n",
       "       'Scoring riesgo', 'Estado pago factura', 'Monto Abono'],\n",
       "      dtype='object')"
      ]
     },
     "execution_count": 357,
     "metadata": {},
     "output_type": "execute_result"
    }
   ],
   "source": [
    "ventas.columns"
   ]
  },
  {
   "cell_type": "code",
   "execution_count": 358,
   "id": "ce000374-ec0b-47a6-85e6-9502047a87e9",
   "metadata": {},
   "outputs": [
    {
     "name": "stdout",
     "output_type": "stream",
     "text": [
      "Ejecutivos activos entre 2023-01-01 y 2024-12-31:\n",
      "['Ejecutivo 5' 'Ejecutivo 32' 'Ejecutivo 7' 'Ejecutivo 15' 'Ejecutivo 35'\n",
      " 'Ejecutivo 4' 'Ejecutivo 2' 'Ejecutivo 1' 'Ejecutivo 8' 'Ejecutivo 3'\n",
      " 'Ejecutivo 18' 'Ejecutivo 13' 'Ejecutivo 22' 'Ejecutivo 6' 'Ejecutivo 28'\n",
      " 'Ejecutivo 12' 'Ejecutivo 30' 'Ejecutivo 9' 'Ejecutivo 21' 'Ejecutivo 10'\n",
      " 'Ejecutivo 19' 'Ejecutivo 11' 'Ejecutivo 17' 'Ejecutivo prueba'\n",
      " 'Ejecutivo 16' 'Ejecutivo 31']\n",
      "\n",
      "Datos filtrados (solo ejecutivos activos):\n",
      "   ID_operacion Fecha creacion operación  Monto factura  \\\n",
      "0         68101               2024-12-31      1832600.0   \n",
      "1         68100               2024-12-31       535500.0   \n",
      "2         68099               2024-12-31      2677500.0   \n",
      "3         68098               2024-12-31      1523676.0   \n",
      "4         68097               2024-12-31      5176500.0   \n",
      "\n",
      "  Nombre empresa solicitante Nombre Ejecutivo  Ingreso por operación      IVA  \\\n",
      "0                Cliente 934      Ejecutivo 5                  30055   5710.0   \n",
      "1                Cliente 934      Ejecutivo 5                   8782   1669.0   \n",
      "2                Cliente 934      Ejecutivo 5                  38556   7326.0   \n",
      "3                Cliente 934      Ejecutivo 5                  22550   4284.0   \n",
      "4                Cliente 934      Ejecutivo 5                  84895  16130.0   \n",
      "\n",
      "   Dias operación  Taa de interés a cliente  Interes  \\\n",
      "0            41.0                      1.15  28802.0   \n",
      "1            41.0                      1.15   8416.0   \n",
      "2            36.0                      1.15  36950.0   \n",
      "3            37.0                      1.15  21611.0   \n",
      "4            41.0                      1.15  81357.0   \n",
      "\n",
      "   Tasa interes inversionista Scoring riesgo Estado pago factura  Monto Abono  \n",
      "0                         1.1            531          No Abonado          NaN  \n",
      "1                         1.1            630          No Abonado          NaN  \n",
      "2                         1.1            303          No Abonado          NaN  \n",
      "3                         1.1            531          No Abonado          NaN  \n",
      "4                         1.1            630          No Abonado          NaN  \n"
     ]
    }
   ],
   "source": [
    "from datetime import datetime, timedelta\n",
    "\n",
    "# 1. Verifica y convierte la columna de fechas si es necesario\n",
    "ventas['Fecha creacion operación'] = pd.to_datetime(ventas['Fecha creacion operación'], errors='coerce')\n",
    "\n",
    "# 2. Define el rango específico de fechas (01-01-2023 al 31-12-2024)\n",
    "fecha_inicio = datetime(2023, 1, 1)\n",
    "fecha_fin = datetime(2024, 12, 31)\n",
    "\n",
    "# Filtra los datos dentro del rango de fechas\n",
    "df_rango_fechas = ventas[(ventas['Fecha creacion operación'] >= fecha_inicio) & \n",
    "                         (ventas['Fecha creacion operación'] <= fecha_fin)]\n",
    "\n",
    "# 3. Define la fecha límite de actividad para determinar inactividad (últimos 180 días desde hoy)\n",
    "fecha_limite_inactividad = datetime.now() - timedelta(days=180)\n",
    "\n",
    "# Filtra los ejecutivos activos: Aquellos que tienen transacciones en los últimos 180 días\n",
    "ejecutivos_activos = df_rango_fechas[\n",
    "    df_rango_fechas['Fecha creacion operación'] >= fecha_limite_inactividad\n",
    "]['Nombre Ejecutivo'].unique()\n",
    "\n",
    "# 4. Filtra nuevamente los datos para incluir solo ejecutivos activos\n",
    "df_activos = df_rango_fechas[df_rango_fechas['Nombre Ejecutivo'].isin(ejecutivos_activos)]\n",
    "\n",
    "# 5. Imprime resultados\n",
    "print(f\"Ejecutivos activos entre {fecha_inicio.date()} y {fecha_fin.date()}:\")\n",
    "print(ejecutivos_activos)\n",
    "\n",
    "print(\"\\nDatos filtrados (solo ejecutivos activos):\")\n",
    "print(df_activos.head())\n"
   ]
  },
  {
   "cell_type": "code",
   "execution_count": 359,
   "id": "76c30916-cb96-46b7-bf92-777599cab3bb",
   "metadata": {},
   "outputs": [
    {
     "name": "stdout",
     "output_type": "stream",
     "text": [
      "Filas con 'Ejecutivo prueba' eliminadas:\n",
      "   ID_operacion Fecha creacion operación  Monto factura  \\\n",
      "0         68101               2024-12-31      1832600.0   \n",
      "1         68100               2024-12-31       535500.0   \n",
      "2         68099               2024-12-31      2677500.0   \n",
      "3         68098               2024-12-31      1523676.0   \n",
      "4         68097               2024-12-31      5176500.0   \n",
      "\n",
      "  Nombre empresa solicitante Nombre Ejecutivo  Ingreso por operación      IVA  \\\n",
      "0                Cliente 934      Ejecutivo 5                  30055   5710.0   \n",
      "1                Cliente 934      Ejecutivo 5                   8782   1669.0   \n",
      "2                Cliente 934      Ejecutivo 5                  38556   7326.0   \n",
      "3                Cliente 934      Ejecutivo 5                  22550   4284.0   \n",
      "4                Cliente 934      Ejecutivo 5                  84895  16130.0   \n",
      "\n",
      "   Dias operación  Taa de interés a cliente  Interes  \\\n",
      "0            41.0                      1.15  28802.0   \n",
      "1            41.0                      1.15   8416.0   \n",
      "2            36.0                      1.15  36950.0   \n",
      "3            37.0                      1.15  21611.0   \n",
      "4            41.0                      1.15  81357.0   \n",
      "\n",
      "   Tasa interes inversionista Scoring riesgo Estado pago factura  Monto Abono  \n",
      "0                         1.1            531          No Abonado          NaN  \n",
      "1                         1.1            630          No Abonado          NaN  \n",
      "2                         1.1            303          No Abonado          NaN  \n",
      "3                         1.1            531          No Abonado          NaN  \n",
      "4                         1.1            630          No Abonado          NaN  \n"
     ]
    }
   ],
   "source": [
    "# Eliminar las filas donde 'Nombre Ejecutivo' sea 'Ejecutivo prueba'\n",
    "df_activos = df_activos[df_activos['Nombre Ejecutivo'] != 'Ejecutivo prueba']\n",
    "\n",
    "print(\"Filas con 'Ejecutivo prueba' eliminadas:\")\n",
    "print(df_activos.head())\n",
    "\n"
   ]
  },
  {
   "cell_type": "code",
   "execution_count": 360,
   "id": "918fea7f-6c40-4031-9c35-7e5b84a4065f",
   "metadata": {},
   "outputs": [
    {
     "name": "stdout",
     "output_type": "stream",
     "text": [
      "Archivo guardado exitosamente como 'Ventas_filtradas.xlsx'\n"
     ]
    }
   ],
   "source": [
    "# Guardar el archivo Excel sin los datos innecesarios\n",
    "nombre_archivo = \"Ventas_filtradas.xlsx\"\n",
    "df_activos.to_excel(nombre_archivo, index=False)\n",
    "\n",
    "print(f\"Archivo guardado exitosamente como '{nombre_archivo}'\")\n"
   ]
  },
  {
   "cell_type": "code",
   "execution_count": 361,
   "id": "45000c9e-44ff-4ab8-8d40-630b922dadcd",
   "metadata": {},
   "outputs": [],
   "source": [
    "import pandas as pd\n",
    "ventas=pd.read_excel('Ventas_filtradas.xlsx', sheet_name=\"Sheet1\")"
   ]
  },
  {
   "cell_type": "code",
   "execution_count": 362,
   "id": "c18404c3-59be-41f7-8832-ce6d7996168d",
   "metadata": {},
   "outputs": [
    {
     "name": "stdout",
     "output_type": "stream",
     "text": [
      "   ID_operacion Fecha creacion operación  Monto factura  \\\n",
      "0         68101               2024-12-31      1832600.0   \n",
      "1         68100               2024-12-31       535500.0   \n",
      "2         68099               2024-12-31      2677500.0   \n",
      "3         68098               2024-12-31      1523676.0   \n",
      "4         68097               2024-12-31      5176500.0   \n",
      "\n",
      "  Nombre empresa solicitante Nombre Ejecutivo  Ingreso por operación      IVA  \\\n",
      "0                Cliente 934      Ejecutivo 5                  30055   5710.0   \n",
      "1                Cliente 934      Ejecutivo 5                   8782   1669.0   \n",
      "2                Cliente 934      Ejecutivo 5                  38556   7326.0   \n",
      "3                Cliente 934      Ejecutivo 5                  22550   4284.0   \n",
      "4                Cliente 934      Ejecutivo 5                  84895  16130.0   \n",
      "\n",
      "   Dias operación  Taa de interés a cliente  Interes  \\\n",
      "0              41                      1.15  28802.0   \n",
      "1              41                      1.15   8416.0   \n",
      "2              36                      1.15  36950.0   \n",
      "3              37                      1.15  21611.0   \n",
      "4              41                      1.15  81357.0   \n",
      "\n",
      "   Tasa interes inversionista Scoring riesgo Estado pago factura  Monto Abono  \n",
      "0                         1.1            531          No Abonado          NaN  \n",
      "1                         1.1            630          No Abonado          NaN  \n",
      "2                         1.1            303          No Abonado          NaN  \n",
      "3                         1.1            531          No Abonado          NaN  \n",
      "4                         1.1            630          No Abonado          NaN  \n"
     ]
    }
   ],
   "source": [
    "print(ventas.head())"
   ]
  },
  {
   "cell_type": "code",
   "execution_count": 363,
   "id": "4a0a28fc-791b-4faa-bb7f-71dd458cd2b1",
   "metadata": {},
   "outputs": [],
   "source": [
    "#eliminamos columnas que no utilizaremos para el analisis \n",
    "ventas.drop(columns=['IVA', 'Dias operación',\n",
    "       'Taa de interés a cliente', 'Interes', 'Tasa interes inversionista',\n",
    "       'Scoring riesgo', 'Estado pago factura', 'Monto Abono'], inplace=True, errors='ignore')"
   ]
  },
  {
   "cell_type": "code",
   "execution_count": 364,
   "id": "76f78ccf-f077-4b9e-85ae-052364157360",
   "metadata": {},
   "outputs": [
    {
     "data": {
      "text/plain": [
       "Index(['ID_operacion', 'Fecha creacion operación', 'Monto factura',\n",
       "       'Nombre empresa solicitante', 'Nombre Ejecutivo',\n",
       "       'Ingreso por operación'],\n",
       "      dtype='object')"
      ]
     },
     "execution_count": 364,
     "metadata": {},
     "output_type": "execute_result"
    }
   ],
   "source": [
    "#verificamos columnas existentes\n",
    "ventas.columns"
   ]
  },
  {
   "cell_type": "code",
   "execution_count": 365,
   "id": "f9976f1c-07ba-4c8c-9705-57c6b8153103",
   "metadata": {},
   "outputs": [],
   "source": [
    "# Crear columnas vacías para Propuesta 1\n",
    "ventas['Clasificación por valor(proyecto1)'] = \"\"\n",
    "ventas['% bono respecto al valor de la factura(proyecto1)'] = 0.0\n",
    "ventas['bono_a_pagar(proyecto1)'] = 0.0\n"
   ]
  },
  {
   "cell_type": "code",
   "execution_count": 366,
   "id": "52655d80-14a9-4685-a8c3-8ef4dfdb75eb",
   "metadata": {},
   "outputs": [
    {
     "data": {
      "text/plain": [
       "Index(['ID_operacion', 'Fecha creacion operación', 'Monto factura',\n",
       "       'Nombre empresa solicitante', 'Nombre Ejecutivo',\n",
       "       'Ingreso por operación', 'Clasificación por valor(proyecto1)',\n",
       "       '% bono respecto al valor de la factura(proyecto1)',\n",
       "       'bono_a_pagar(proyecto1)'],\n",
       "      dtype='object')"
      ]
     },
     "execution_count": 366,
     "metadata": {},
     "output_type": "execute_result"
    }
   ],
   "source": [
    "#verificamos que se agreguen las columnas nuevas\n",
    "ventas.columns"
   ]
  },
  {
   "cell_type": "code",
   "execution_count": 367,
   "id": "8699f0c0-c36b-409e-8697-84bcb1a891b7",
   "metadata": {},
   "outputs": [],
   "source": [
    " # Clasifica el valor del proyecto basado en el monto de la factura.\n",
    "def clasificar_valor_proyecto1(monto):\n",
    "# Devuelve una categoría (Bajo, Medio, Alto) y un porcentaje de bonificación.\n",
    "    if monto < 50000000:\n",
    "        return \"Bajo valor\", 0.0025\n",
    "    elif 50000000 <= monto <= 200000000:\n",
    "        return \"Medio valor\", 0.005\n",
    "    else:\n",
    "        return \"Alto valor\", 0.006\n",
    "        \n",
    "#Desempaqueta los resultados (clasificación y porcentaje de bonificación) en dos nuevas columnas.\n",
    "ventas['Clasificación por valor(proyecto1)'], ventas['% bono respecto al valor de la factura(proyecto1)'] = zip(\n",
    "    *ventas['Monto factura'].apply(clasificar_valor_proyecto1)\n",
    ")"
   ]
  },
  {
   "cell_type": "code",
   "execution_count": 368,
   "id": "c653e181-8f5e-4d47-a43f-c08f516eaf49",
   "metadata": {},
   "outputs": [
    {
     "name": "stdout",
     "output_type": "stream",
     "text": [
      "   ID_operacion Fecha creacion operación  Monto factura  \\\n",
      "0         68101               2024-12-31      1832600.0   \n",
      "1         68100               2024-12-31       535500.0   \n",
      "2         68099               2024-12-31      2677500.0   \n",
      "3         68098               2024-12-31      1523676.0   \n",
      "4         68097               2024-12-31      5176500.0   \n",
      "\n",
      "  Nombre empresa solicitante Nombre Ejecutivo  Ingreso por operación  \\\n",
      "0                Cliente 934      Ejecutivo 5                  30055   \n",
      "1                Cliente 934      Ejecutivo 5                   8782   \n",
      "2                Cliente 934      Ejecutivo 5                  38556   \n",
      "3                Cliente 934      Ejecutivo 5                  22550   \n",
      "4                Cliente 934      Ejecutivo 5                  84895   \n",
      "\n",
      "  Clasificación por valor(proyecto1)  \\\n",
      "0                         Bajo valor   \n",
      "1                         Bajo valor   \n",
      "2                         Bajo valor   \n",
      "3                         Bajo valor   \n",
      "4                         Bajo valor   \n",
      "\n",
      "   % bono respecto al valor de la factura(proyecto1)  bono_a_pagar(proyecto1)  \n",
      "0                                             0.0025                      0.0  \n",
      "1                                             0.0025                      0.0  \n",
      "2                                             0.0025                      0.0  \n",
      "3                                             0.0025                      0.0  \n",
      "4                                             0.0025                      0.0  \n"
     ]
    }
   ],
   "source": [
    "#visualizamos columnas nuevas con  valores agregadoe\n",
    "print(ventas.head())"
   ]
  },
  {
   "cell_type": "code",
   "execution_count": 369,
   "id": "cc931a55-96d4-48ce-9832-025efd3eda2a",
   "metadata": {},
   "outputs": [],
   "source": [
    "#Calcula el bono a pagar multiplicando el monto de la factura por el porcentaje correspondiente\n",
    "ventas['bono_a_pagar(proyecto1)'] = ventas['Monto factura'] * ventas['% bono respecto al valor de la factura(proyecto1)']"
   ]
  },
  {
   "cell_type": "code",
   "execution_count": 370,
   "id": "9ec40efd-7a77-402f-83b0-607588e64eaa",
   "metadata": {},
   "outputs": [
    {
     "data": {
      "text/plain": [
       "Index(['ID_operacion', 'Fecha creacion operación', 'Monto factura',\n",
       "       'Nombre empresa solicitante', 'Nombre Ejecutivo',\n",
       "       'Ingreso por operación', 'Clasificación por valor(proyecto1)',\n",
       "       '% bono respecto al valor de la factura(proyecto1)',\n",
       "       'bono_a_pagar(proyecto1)'],\n",
       "      dtype='object')"
      ]
     },
     "execution_count": 370,
     "metadata": {},
     "output_type": "execute_result"
    }
   ],
   "source": [
    "ventas.columns"
   ]
  },
  {
   "cell_type": "code",
   "execution_count": 371,
   "id": "3b21e070-968d-4502-9063-f5e74389b946",
   "metadata": {},
   "outputs": [],
   "source": [
    "propuesta_1 = ventas[['ID_operacion', 'Fecha creacion operación', 'Nombre Ejecutivo',\n",
    "                       'Clasificación por valor(proyecto1)', '% bono respecto al valor de la factura(proyecto1)',\n",
    "                       'bono_a_pagar(proyecto1)']]"
   ]
  },
  {
   "cell_type": "code",
   "execution_count": 372,
   "id": "2eb0f64d-0b07-4d72-8b7a-d7f0b0a66149",
   "metadata": {},
   "outputs": [
    {
     "name": "stdout",
     "output_type": "stream",
     "text": [
      "   ID_operacion Fecha creacion operación  Monto factura  \\\n",
      "0         68101               2024-12-31      1832600.0   \n",
      "1         68100               2024-12-31       535500.0   \n",
      "2         68099               2024-12-31      2677500.0   \n",
      "3         68098               2024-12-31      1523676.0   \n",
      "4         68097               2024-12-31      5176500.0   \n",
      "\n",
      "  Nombre empresa solicitante Nombre Ejecutivo  Ingreso por operación  \\\n",
      "0                Cliente 934      Ejecutivo 5                  30055   \n",
      "1                Cliente 934      Ejecutivo 5                   8782   \n",
      "2                Cliente 934      Ejecutivo 5                  38556   \n",
      "3                Cliente 934      Ejecutivo 5                  22550   \n",
      "4                Cliente 934      Ejecutivo 5                  84895   \n",
      "\n",
      "  Clasificación por valor(proyecto1)  \\\n",
      "0                         Bajo valor   \n",
      "1                         Bajo valor   \n",
      "2                         Bajo valor   \n",
      "3                         Bajo valor   \n",
      "4                         Bajo valor   \n",
      "\n",
      "   % bono respecto al valor de la factura(proyecto1)  bono_a_pagar(proyecto1)  \n",
      "0                                             0.0025                  4581.50  \n",
      "1                                             0.0025                  1338.75  \n",
      "2                                             0.0025                  6693.75  \n",
      "3                                             0.0025                  3809.19  \n",
      "4                                             0.0025                 12941.25  \n"
     ]
    }
   ],
   "source": [
    "#Muestra los primeros registros de los DataFrames ventas\n",
    "print(ventas.head())"
   ]
  },
  {
   "cell_type": "code",
   "execution_count": 373,
   "id": "2e01bb99-50c5-4c22-a5b9-545216e4daab",
   "metadata": {},
   "outputs": [
    {
     "name": "stdout",
     "output_type": "stream",
     "text": [
      "   ID_operacion Fecha creacion operación Nombre Ejecutivo  \\\n",
      "0         68101               2024-12-31      Ejecutivo 5   \n",
      "1         68100               2024-12-31      Ejecutivo 5   \n",
      "2         68099               2024-12-31      Ejecutivo 5   \n",
      "3         68098               2024-12-31      Ejecutivo 5   \n",
      "4         68097               2024-12-31      Ejecutivo 5   \n",
      "\n",
      "  Clasificación por valor(proyecto1)  \\\n",
      "0                         Bajo valor   \n",
      "1                         Bajo valor   \n",
      "2                         Bajo valor   \n",
      "3                         Bajo valor   \n",
      "4                         Bajo valor   \n",
      "\n",
      "   % bono respecto al valor de la factura(proyecto1)  bono_a_pagar(proyecto1)  \n",
      "0                                             0.0025                  4581.50  \n",
      "1                                             0.0025                  1338.75  \n",
      "2                                             0.0025                  6693.75  \n",
      "3                                             0.0025                  3809.19  \n",
      "4                                             0.0025                 12941.25  \n"
     ]
    }
   ],
   "source": [
    "print(propuesta_1.head())"
   ]
  },
  {
   "cell_type": "code",
   "execution_count": 374,
   "id": "860f436f-bc44-4395-a0a1-196d68556b15",
   "metadata": {},
   "outputs": [],
   "source": [
    "# Crear columnas vacías para Propuesta 2\n",
    "ventas['Clasificación por valor(proyecto2)'] = \"\"\n",
    "ventas['% bono respecto al ingreso de la factura(proyecto2)'] = 0.0\n",
    "ventas['bono_a_pagar(proyecto2)'] = 0.0"
   ]
  },
  {
   "cell_type": "code",
   "execution_count": 375,
   "id": "a9a7ae34-259b-455c-8a29-8c7338a7aee8",
   "metadata": {},
   "outputs": [],
   "source": [
    "# Clasifica el valor del proyecto basado en el ingreso por operación.\n",
    "def clasificar_valor_proyecto2(ingreso):\n",
    "# Devuelve una categoría (Bajo, Medio, Alto) y un porcentaje de bonificación. \n",
    "    if ingreso < 100000:\n",
    "        return \"Bajo valor\", 0.05\n",
    "    elif 100000 <= ingreso <= 1000000:\n",
    "        return \"Medio valor\", 0.0875\n",
    "    else:\n",
    "        return \"Alto valor\", 0.1\n",
    "#Desempaqueta los resultados (clasificación y porcentaje de bonificación) en dos nuevas columnas.\n",
    "ventas['Clasificación por valor(proyecto2)'], ventas['% bono respecto al ingreso de la factura(proyecto2)'] = zip(\n",
    "    *ventas['Ingreso por operación'].apply(clasificar_valor_proyecto2)\n",
    ")"
   ]
  },
  {
   "cell_type": "code",
   "execution_count": 376,
   "id": "c1683946-f0a8-4188-b627-ed6c263f34bf",
   "metadata": {},
   "outputs": [],
   "source": [
    "#Calcula el bono a pagar multiplicando el ingreso por operación por el porcentaje correspondiente.\n",
    "ventas['bono_a_pagar(proyecto2)'] = ventas['Ingreso por operación'] * ventas['% bono respecto al ingreso de la factura(proyecto2)']"
   ]
  },
  {
   "cell_type": "code",
   "execution_count": 377,
   "id": "4bbe6c42-d966-4364-b16a-8b82a61e740c",
   "metadata": {},
   "outputs": [],
   "source": [
    "#Filtra las columnas relevantes para el proyecto 2 y las almacena en el DataFrame\n",
    "propuesta_2 = ventas[['ID_operacion', 'Fecha creacion operación', 'Nombre Ejecutivo',\n",
    "                       'Clasificación por valor(proyecto2)', '% bono respecto al ingreso de la factura(proyecto2)',\n",
    "                       'bono_a_pagar(proyecto2)']]"
   ]
  },
  {
   "cell_type": "code",
   "execution_count": 378,
   "id": "94d954fc-d930-45f0-ad81-4607d9a859ac",
   "metadata": {},
   "outputs": [
    {
     "name": "stdout",
     "output_type": "stream",
     "text": [
      "   ID_operacion Fecha creacion operación Nombre Ejecutivo  \\\n",
      "0         68101               2024-12-31      Ejecutivo 5   \n",
      "1         68100               2024-12-31      Ejecutivo 5   \n",
      "2         68099               2024-12-31      Ejecutivo 5   \n",
      "3         68098               2024-12-31      Ejecutivo 5   \n",
      "4         68097               2024-12-31      Ejecutivo 5   \n",
      "\n",
      "  Clasificación por valor(proyecto2)  \\\n",
      "0                         Bajo valor   \n",
      "1                         Bajo valor   \n",
      "2                         Bajo valor   \n",
      "3                         Bajo valor   \n",
      "4                         Bajo valor   \n",
      "\n",
      "   % bono respecto al ingreso de la factura(proyecto2)  \\\n",
      "0                                               0.05     \n",
      "1                                               0.05     \n",
      "2                                               0.05     \n",
      "3                                               0.05     \n",
      "4                                               0.05     \n",
      "\n",
      "   bono_a_pagar(proyecto2)  \n",
      "0                  1502.75  \n",
      "1                   439.10  \n",
      "2                  1927.80  \n",
      "3                  1127.50  \n",
      "4                  4244.75  \n"
     ]
    }
   ],
   "source": [
    "#Muestra los primeros registros del DataFrame propuesta_2\n",
    "print(propuesta_2.head())"
   ]
  },
  {
   "cell_type": "code",
   "execution_count": 379,
   "id": "87f06f23-145b-46bd-be82-7f8909719ec6",
   "metadata": {},
   "outputs": [],
   "source": [
    " # Clasifica el tráfico en Bajo, Medio o Alto basado en la cantidad de clientes.\n",
    "def clasificar_trafico(cantidad):\n",
    " # Devuelve la clasificación y el bono fijo asociado.   \n",
    "    if cantidad < 8:\n",
    "        return \"Bajo tráfico\", 50000\n",
    "    elif 8 <= cantidad <= 12:\n",
    "        return \"Medio tráfico\", 120000\n",
    "    else:\n",
    "        return \"Alto tráfico\", 250000"
   ]
  },
  {
   "cell_type": "code",
   "execution_count": 380,
   "id": "6af20c75-b29b-435c-8e76-474017fb7ef6",
   "metadata": {},
   "outputs": [
    {
     "name": "stdout",
     "output_type": "stream",
     "text": [
      "   Nombre Ejecutivo  Cantidad de clientes operando  Clasificación  \\\n",
      "0       Ejecutivo 1                             51   Alto tráfico   \n",
      "1      Ejecutivo 10                             20   Alto tráfico   \n",
      "2      Ejecutivo 11                             15   Alto tráfico   \n",
      "3      Ejecutivo 12                             19   Alto tráfico   \n",
      "4      Ejecutivo 13                             53   Alto tráfico   \n",
      "5      Ejecutivo 15                             20   Alto tráfico   \n",
      "6      Ejecutivo 16                             10  Medio tráfico   \n",
      "7      Ejecutivo 17                             13   Alto tráfico   \n",
      "8      Ejecutivo 18                             26   Alto tráfico   \n",
      "9      Ejecutivo 19                             12  Medio tráfico   \n",
      "10      Ejecutivo 2                             81   Alto tráfico   \n",
      "11     Ejecutivo 21                             12  Medio tráfico   \n",
      "12     Ejecutivo 22                             26   Alto tráfico   \n",
      "13     Ejecutivo 28                             20   Alto tráfico   \n",
      "14      Ejecutivo 3                             56   Alto tráfico   \n",
      "15     Ejecutivo 30                             11  Medio tráfico   \n",
      "16     Ejecutivo 31                              8  Medio tráfico   \n",
      "17     Ejecutivo 32                              7   Bajo tráfico   \n",
      "18     Ejecutivo 35                              3   Bajo tráfico   \n",
      "19      Ejecutivo 4                             50   Alto tráfico   \n",
      "20      Ejecutivo 5                             57   Alto tráfico   \n",
      "21      Ejecutivo 6                             30   Alto tráfico   \n",
      "22      Ejecutivo 7                             19   Alto tráfico   \n",
      "23      Ejecutivo 8                             45   Alto tráfico   \n",
      "24      Ejecutivo 9                             40   Alto tráfico   \n",
      "\n",
      "    Bono fijo bruto  \n",
      "0            250000  \n",
      "1            250000  \n",
      "2            250000  \n",
      "3            250000  \n",
      "4            250000  \n",
      "5            250000  \n",
      "6            120000  \n",
      "7            250000  \n",
      "8            250000  \n",
      "9            120000  \n",
      "10           250000  \n",
      "11           120000  \n",
      "12           250000  \n",
      "13           250000  \n",
      "14           250000  \n",
      "15           120000  \n",
      "16           120000  \n",
      "17            50000  \n",
      "18            50000  \n",
      "19           250000  \n",
      "20           250000  \n",
      "21           250000  \n",
      "22           250000  \n",
      "23           250000  \n",
      "24           250000  \n"
     ]
    }
   ],
   "source": [
    "# Crear el DataFrame clientes_operando (asegurándote de que esté definido)\n",
    "clientes_operando = ventas.groupby('Nombre Ejecutivo')['Nombre empresa solicitante'].nunique().reset_index()\n",
    "clientes_operando.columns = ['Nombre Ejecutivo', 'Cantidad de clientes operando']\n",
    "\n",
    "# Aplicar la función de clasificación al DataFrame 'clientes_operando'\n",
    "clientes_operando['Clasificación'] = clientes_operando['Cantidad de clientes operando'].apply(lambda x: clasificar_trafico(x)[0])\n",
    "clientes_operando['Bono fijo bruto'] = clientes_operando['Cantidad de clientes operando'].apply(lambda x: clasificar_trafico(x)[1])\n",
    "\n",
    "# Verificar el DataFrame resultante\n",
    "print(clientes_operando)"
   ]
  },
  {
   "cell_type": "code",
   "execution_count": 381,
   "id": "b454f03d-87ed-43cc-83fd-625d25f598ff",
   "metadata": {},
   "outputs": [
    {
     "name": "stdout",
     "output_type": "stream",
     "text": [
      "   ID_operacion Fecha creacion operación  Monto factura  \\\n",
      "0         68101               2024-12-31      1832600.0   \n",
      "1         68100               2024-12-31       535500.0   \n",
      "2         68099               2024-12-31      2677500.0   \n",
      "3         68098               2024-12-31      1523676.0   \n",
      "4         68097               2024-12-31      5176500.0   \n",
      "\n",
      "  Nombre empresa solicitante Nombre Ejecutivo  Ingreso por operación  \\\n",
      "0                Cliente 934      Ejecutivo 5                  30055   \n",
      "1                Cliente 934      Ejecutivo 5                   8782   \n",
      "2                Cliente 934      Ejecutivo 5                  38556   \n",
      "3                Cliente 934      Ejecutivo 5                  22550   \n",
      "4                Cliente 934      Ejecutivo 5                  84895   \n",
      "\n",
      "  Clasificación por valor(proyecto1)  \\\n",
      "0                         Bajo valor   \n",
      "1                         Bajo valor   \n",
      "2                         Bajo valor   \n",
      "3                         Bajo valor   \n",
      "4                         Bajo valor   \n",
      "\n",
      "   % bono respecto al valor de la factura(proyecto1)  bono_a_pagar(proyecto1)  \\\n",
      "0                                             0.0025                  4581.50   \n",
      "1                                             0.0025                  1338.75   \n",
      "2                                             0.0025                  6693.75   \n",
      "3                                             0.0025                  3809.19   \n",
      "4                                             0.0025                 12941.25   \n",
      "\n",
      "  Clasificación por valor(proyecto2)  \\\n",
      "0                         Bajo valor   \n",
      "1                         Bajo valor   \n",
      "2                         Bajo valor   \n",
      "3                         Bajo valor   \n",
      "4                         Bajo valor   \n",
      "\n",
      "   % bono respecto al ingreso de la factura(proyecto2)  \\\n",
      "0                                               0.05     \n",
      "1                                               0.05     \n",
      "2                                               0.05     \n",
      "3                                               0.05     \n",
      "4                                               0.05     \n",
      "\n",
      "   bono_a_pagar(proyecto2)  \n",
      "0                  1502.75  \n",
      "1                   439.10  \n",
      "2                  1927.80  \n",
      "3                  1127.50  \n",
      "4                  4244.75  \n"
     ]
    }
   ],
   "source": [
    "print(ventas.head())"
   ]
  },
  {
   "cell_type": "code",
   "execution_count": 382,
   "id": "5f08a579-a406-44ff-9007-a91e9aad7ba4",
   "metadata": {},
   "outputs": [
    {
     "name": "stdout",
     "output_type": "stream",
     "text": [
      "Primeros registros después de agregar la columna 'Mes/Año':\n",
      "  Fecha creacion operación  Mes/Año\n",
      "0               2024-12-31  2024-12\n",
      "1               2024-12-31  2024-12\n",
      "2               2024-12-31  2024-12\n",
      "3               2024-12-31  2024-12\n",
      "4               2024-12-31  2024-12\n"
     ]
    }
   ],
   "source": [
    "# Crear una columna 'Mes/Año' en el DataFrame para agrupar por mes\n",
    "ventas['Mes/Año'] = ventas['Fecha creacion operación'].dt.to_period('M')\n",
    "\n",
    "# Visualizar los primeros registros de la nueva columna 'Mes/Año'\n",
    "print(\"Primeros registros después de agregar la columna 'Mes/Año':\")\n",
    "print(ventas[['Fecha creacion operación', 'Mes/Año']].head())\n"
   ]
  },
  {
   "cell_type": "code",
   "execution_count": 383,
   "id": "64b56b08-8ad1-4609-aaed-cb63ac891bc0",
   "metadata": {},
   "outputs": [
    {
     "name": "stdout",
     "output_type": "stream",
     "text": [
      "'Cantidad de clientes operando' no está en el DataFrame 'ventas'. Realizando el merge...\n"
     ]
    }
   ],
   "source": [
    "# Verificar si la columna 'Cantidad de clientes operando' está en el DataFrame ventas\n",
    "if 'Cantidad de clientes operando' not in ventas.columns:\n",
    "    print(\"'Cantidad de clientes operando' no está en el DataFrame 'ventas'. Realizando el merge...\")\n",
    "\n",
    "    # Realizar el merge con el DataFrame 'clientes_operando'\n",
    "    ventas = ventas.merge(\n",
    "        clientes_operando[['Nombre Ejecutivo', 'Cantidad de clientes operando']],\n",
    "        on='Nombre Ejecutivo',\n",
    "        how='left',\n",
    "        suffixes=('', '_duplicado')  # Sufijo para identificar duplicados\n",
    "    )\n"
   ]
  },
  {
   "cell_type": "code",
   "execution_count": 384,
   "id": "ff292039-fa84-4ea5-a662-255744ef4fa3",
   "metadata": {},
   "outputs": [],
   "source": [
    "# Eliminar columnas duplicadas (si existen)\n",
    "if 'Cantidad de clientes operando_duplicado' in ventas.columns:\n",
    "    print(\"Se detectó la columna 'Cantidad de clientes operando_duplicado'. Combinando valores...\")\n",
    "\n",
    "    # Combinar valores de las columnas originales y duplicadas\n",
    "    ventas['Cantidad de clientes operando'] = ventas['Cantidad de clientes operando'].fillna(\n",
    "        ventas['Cantidad de clientes operando_duplicado']\n",
    "    )\n",
    "\n",
    "    # Eliminar la columna duplicada\n",
    "    ventas.drop(columns=['Cantidad de clientes operando_duplicado'], inplace=True)"
   ]
  },
  {
   "cell_type": "code",
   "execution_count": 385,
   "id": "7e28c242-8d74-4ba1-9a99-aa4b046fc822",
   "metadata": {},
   "outputs": [],
   "source": [
    "# Eliminar columnas innecesarias con sufijos _x e _y si aparecen\n",
    "if 'Cantidad de clientes operando_x' in ventas.columns and 'Cantidad de clientes operando_y' in ventas.columns:\n",
    "    print(\"Se detectaron columnas con sufijos '_x' y '_y'. Combinando valores...\")\n",
    "\n",
    "    # Combinar valores de las columnas\n",
    "    ventas['Cantidad de clientes operando'] = ventas['Cantidad de clientes operando_x'].combine_first(\n",
    "        ventas['Cantidad de clientes operando_y']\n",
    "    )\n",
    "\n",
    "    # Eliminar columnas con sufijos\n",
    "    ventas.drop(columns=['Cantidad de clientes operando_x', 'Cantidad de clientes operando_y'], inplace=True)"
   ]
  },
  {
   "cell_type": "code",
   "execution_count": 386,
   "id": "a2189545-ec1d-453f-b8d7-7b5ab7545486",
   "metadata": {},
   "outputs": [
    {
     "name": "stdout",
     "output_type": "stream",
     "text": [
      "Columnas actuales en ventas después de limpieza: Index(['ID_operacion', 'Fecha creacion operación', 'Monto factura',\n",
      "       'Nombre empresa solicitante', 'Nombre Ejecutivo',\n",
      "       'Ingreso por operación', 'Clasificación por valor(proyecto1)',\n",
      "       '% bono respecto al valor de la factura(proyecto1)',\n",
      "       'bono_a_pagar(proyecto1)', 'Clasificación por valor(proyecto2)',\n",
      "       '% bono respecto al ingreso de la factura(proyecto2)',\n",
      "       'bono_a_pagar(proyecto2)', 'Mes/Año', 'Cantidad de clientes operando'],\n",
      "      dtype='object')\n",
      "Primeros registros del DataFrame actualizado:\n",
      "   ID_operacion Fecha creacion operación  Monto factura  \\\n",
      "0         68101               2024-12-31      1832600.0   \n",
      "1         68100               2024-12-31       535500.0   \n",
      "2         68099               2024-12-31      2677500.0   \n",
      "3         68098               2024-12-31      1523676.0   \n",
      "4         68097               2024-12-31      5176500.0   \n",
      "\n",
      "  Nombre empresa solicitante Nombre Ejecutivo  Ingreso por operación  \\\n",
      "0                Cliente 934      Ejecutivo 5                  30055   \n",
      "1                Cliente 934      Ejecutivo 5                   8782   \n",
      "2                Cliente 934      Ejecutivo 5                  38556   \n",
      "3                Cliente 934      Ejecutivo 5                  22550   \n",
      "4                Cliente 934      Ejecutivo 5                  84895   \n",
      "\n",
      "  Clasificación por valor(proyecto1)  \\\n",
      "0                         Bajo valor   \n",
      "1                         Bajo valor   \n",
      "2                         Bajo valor   \n",
      "3                         Bajo valor   \n",
      "4                         Bajo valor   \n",
      "\n",
      "   % bono respecto al valor de la factura(proyecto1)  bono_a_pagar(proyecto1)  \\\n",
      "0                                             0.0025                  4581.50   \n",
      "1                                             0.0025                  1338.75   \n",
      "2                                             0.0025                  6693.75   \n",
      "3                                             0.0025                  3809.19   \n",
      "4                                             0.0025                 12941.25   \n",
      "\n",
      "  Clasificación por valor(proyecto2)  \\\n",
      "0                         Bajo valor   \n",
      "1                         Bajo valor   \n",
      "2                         Bajo valor   \n",
      "3                         Bajo valor   \n",
      "4                         Bajo valor   \n",
      "\n",
      "   % bono respecto al ingreso de la factura(proyecto2)  \\\n",
      "0                                               0.05     \n",
      "1                                               0.05     \n",
      "2                                               0.05     \n",
      "3                                               0.05     \n",
      "4                                               0.05     \n",
      "\n",
      "   bono_a_pagar(proyecto2)  Mes/Año  Cantidad de clientes operando  \n",
      "0                  1502.75  2024-12                             57  \n",
      "1                   439.10  2024-12                             57  \n",
      "2                  1927.80  2024-12                             57  \n",
      "3                  1127.50  2024-12                             57  \n",
      "4                  4244.75  2024-12                             57  \n"
     ]
    }
   ],
   "source": [
    "# Confirmar que solo queda una columna final y que está limpia\n",
    "if 'Cantidad de clientes operando' not in ventas.columns:\n",
    "    raise KeyError(\"La columna 'Cantidad de clientes operando' no se encuentra en el DataFrame ventas.\")\n",
    "\n",
    "# Imprimir columnas actuales para confirmar limpieza\n",
    "print(\"Columnas actuales en ventas después de limpieza:\", ventas.columns)\n",
    "\n",
    "# Visualizar los primeros registros del DataFrame actualizado\n",
    "print(\"Primeros registros del DataFrame actualizado:\")\n",
    "print(ventas.head())"
   ]
  },
  {
   "cell_type": "code",
   "execution_count": 387,
   "id": "75e87f75-23d6-44cd-a312-edba8b7f77b8",
   "metadata": {},
   "outputs": [
    {
     "name": "stdout",
     "output_type": "stream",
     "text": [
      "Primeros registros de 'ventas_mensuales':\n",
      "  Nombre Ejecutivo  Mes/Año  Total_factura  Total_ingreso  Clientes_operando\n",
      "0      Ejecutivo 1  2023-01    653288949.0        9478906                 51\n",
      "1      Ejecutivo 1  2023-02    629406729.0        9296944                 51\n",
      "2      Ejecutivo 1  2023-03    754858337.0        8915311                 51\n",
      "3      Ejecutivo 1  2023-04    940540420.0       12244313                 51\n",
      "4      Ejecutivo 1  2023-05    874119456.0       13099361                 51\n"
     ]
    }
   ],
   "source": [
    "# Agrupar los datos por ejecutivo y mes/año, sumando montos relevantes\n",
    "ventas_mensuales = ventas.groupby(['Nombre Ejecutivo', 'Mes/Año']).agg(\n",
    "    Total_factura=('Monto factura', 'sum'),\n",
    "    Total_ingreso=('Ingreso por operación', 'sum'),\n",
    "    Clientes_operando=('Cantidad de clientes operando', 'max')  # Utilizar el máximo por mes\n",
    ").reset_index()\n",
    "\n",
    "# Visualizar una muestra del DataFrame agrupado\n",
    "print(\"Primeros registros de 'ventas_mensuales':\")\n",
    "print(ventas_mensuales.head())\n"
   ]
  },
  {
   "cell_type": "code",
   "execution_count": 388,
   "id": "492b9ca6-b4e5-4a47-954e-3fdf3d57e6f4",
   "metadata": {},
   "outputs": [
    {
     "name": "stdout",
     "output_type": "stream",
     "text": [
      "Primeros registros de 'ventas_mensuales':\n",
      "  Nombre Ejecutivo  Mes/Año  Total_factura  Total_ingreso  Clientes_operando\n",
      "0      Ejecutivo 1  2023-01    653288949.0        9478906                 51\n",
      "1      Ejecutivo 1  2023-02    629406729.0        9296944                 51\n",
      "2      Ejecutivo 1  2023-03    754858337.0        8915311                 51\n",
      "3      Ejecutivo 1  2023-04    940540420.0       12244313                 51\n",
      "4      Ejecutivo 1  2023-05    874119456.0       13099361                 51\n"
     ]
    }
   ],
   "source": [
    "# Agrupar los datos por ejecutivo y mes/año, sumando montos relevantes\n",
    "ventas_mensuales = ventas.groupby(['Nombre Ejecutivo', 'Mes/Año']).agg(\n",
    "    Total_factura=('Monto factura', 'sum'),\n",
    "    Total_ingreso=('Ingreso por operación', 'sum'),\n",
    "    Clientes_operando=('Cantidad de clientes operando', 'max')  # Utilizar el máximo por mes\n",
    ").reset_index()\n",
    "\n",
    "# Visualizar una muestra del DataFrame agrupado\n",
    "print(\"Primeros registros de 'ventas_mensuales':\")\n",
    "print(ventas_mensuales.head())"
   ]
  },
  {
   "cell_type": "code",
   "execution_count": 389,
   "id": "a2c37f74-61a4-4b4d-b554-c38f0a62a6a8",
   "metadata": {},
   "outputs": [
    {
     "name": "stdout",
     "output_type": "stream",
     "text": [
      "Primeros registros de 'ventas_mensuales':\n",
      "  Nombre Ejecutivo  Mes/Año  Total_factura  Total_ingreso  Clientes_operando\n",
      "0      Ejecutivo 1  2023-01    653288949.0        9478906                 51\n",
      "1      Ejecutivo 1  2023-02    629406729.0        9296944                 51\n",
      "2      Ejecutivo 1  2023-03    754858337.0        8915311                 51\n",
      "3      Ejecutivo 1  2023-04    940540420.0       12244313                 51\n",
      "4      Ejecutivo 1  2023-05    874119456.0       13099361                 51\n"
     ]
    }
   ],
   "source": [
    "# Agrupar los datos por ejecutivo y mes/año, sumando montos relevantes\n",
    "ventas_mensuales = ventas.groupby(['Nombre Ejecutivo', 'Mes/Año']).agg(\n",
    "    Total_factura=('Monto factura', 'sum'),\n",
    "    Total_ingreso=('Ingreso por operación', 'sum'),\n",
    "    Clientes_operando=('Cantidad de clientes operando', 'max')  # Utilizar el máximo por mes\n",
    ").reset_index()\n",
    "\n",
    "# Visualizar una muestra del DataFrame agrupado\n",
    "print(\"Primeros registros de 'ventas_mensuales':\")\n",
    "print(ventas_mensuales.head())"
   ]
  },
  {
   "cell_type": "code",
   "execution_count": 390,
   "id": "32257255-5860-461c-beef-132a41c95e0f",
   "metadata": {},
   "outputs": [
    {
     "name": "stdout",
     "output_type": "stream",
     "text": [
      "Primeros registros de 'ventas_mensuales' después del cálculo de bonos:\n",
      "  Nombre Ejecutivo  Mes/Año  % Bono P1      Bono P1  % Bono P2    Bono P2  \\\n",
      "0      Ejecutivo 1  2023-01      0.006  3919733.694        0.1   947890.6   \n",
      "1      Ejecutivo 1  2023-02      0.006  3776440.374        0.1   929694.4   \n",
      "2      Ejecutivo 1  2023-03      0.006  4529150.022        0.1   891531.1   \n",
      "3      Ejecutivo 1  2023-04      0.006  5643242.520        0.1  1224431.3   \n",
      "4      Ejecutivo 1  2023-05      0.006  5244716.736        0.1  1309936.1   \n",
      "\n",
      "   Bono Fijo  \n",
      "0     250000  \n",
      "1     250000  \n",
      "2     250000  \n",
      "3     250000  \n",
      "4     250000  \n"
     ]
    }
   ],
   "source": [
    "# Calcular bonos según Propuesta 1\n",
    "ventas_mensuales['% Bono P1'] = ventas_mensuales['Total_factura'].apply(lambda monto: \n",
    "    0.0025 if monto < 50000000 else (0.005 if monto <= 200000000 else 0.006))\n",
    "ventas_mensuales['Bono P1'] = ventas_mensuales['Total_factura'] * ventas_mensuales['% Bono P1']\n",
    "\n",
    "# Calcular bonos según Propuesta 2\n",
    "ventas_mensuales['% Bono P2'] = ventas_mensuales['Total_ingreso'].apply(lambda ingreso: \n",
    "    0.05 if ingreso < 100000 else (0.0875 if ingreso <= 1000000 else 0.1))\n",
    "ventas_mensuales['Bono P2'] = ventas_mensuales['Total_ingreso'] * ventas_mensuales['% Bono P2']\n",
    "\n",
    "# Aplicar la función para calcular el bono fijo basado en los clientes operando\n",
    "ventas_mensuales['Bono Fijo'] = ventas_mensuales['Clientes_operando'].apply(lambda x: \n",
    "    50000 if x < 8 else (120000 if x <= 12 else 250000))\n",
    "\n",
    "# Visualizar una muestra después de calcular bonos\n",
    "print(\"Primeros registros de 'ventas_mensuales' después del cálculo de bonos:\")\n",
    "print(ventas_mensuales[['Nombre Ejecutivo', 'Mes/Año', '% Bono P1', 'Bono P1', '% Bono P2', 'Bono P2', 'Bono Fijo']].head())"
   ]
  },
  {
   "cell_type": "code",
   "execution_count": 391,
   "id": "10cd83b1-877c-4ffe-ae1c-91fa487ea576",
   "metadata": {},
   "outputs": [
    {
     "name": "stdout",
     "output_type": "stream",
     "text": [
      "Bonos anuales por ejecutivo y año:\n",
      "  Nombre Ejecutivo   Año      Total_P1      Total_P2\n",
      "0      Ejecutivo 1  2023  6.581906e+07  1.841286e+07\n",
      "1      Ejecutivo 1  2024  8.094600e+07  1.846586e+07\n",
      "2     Ejecutivo 10  2023  8.365202e+06  5.155840e+06\n",
      "3     Ejecutivo 10  2024  1.466077e+07  6.924218e+06\n",
      "4     Ejecutivo 11  2023  3.267302e+06  1.402288e+06\n"
     ]
    }
   ],
   "source": [
    "# Calcular el bono total para cada propuesta\n",
    "ventas_mensuales['Bono Total P1'] = ventas_mensuales['Bono P1'] + ventas_mensuales['Bono Fijo']\n",
    "ventas_mensuales['Bono Total P2'] = ventas_mensuales['Bono P2'] + ventas_mensuales['Bono Fijo']\n",
    "\n",
    "# Crear columna 'Año' para facilitar agrupaciones por año\n",
    "ventas_mensuales['Año'] = ventas_mensuales['Mes/Año'].dt.year\n",
    "\n",
    "# Agrupar por ejecutivo y año para sumar los bonos anuales por cada propuesta\n",
    "bonos_anuales_por_año = ventas_mensuales.groupby(['Nombre Ejecutivo', 'Año']).agg(\n",
    "    Total_P1=('Bono Total P1', 'sum'),\n",
    "    Total_P2=('Bono Total P2', 'sum')\n",
    ").reset_index()\n",
    "\n",
    "# Visualizar una muestra del DataFrame anual\n",
    "print(\"Bonos anuales por ejecutivo y año:\")\n",
    "print(bonos_anuales_por_año.head())\n"
   ]
  },
  {
   "cell_type": "code",
   "execution_count": 392,
   "id": "c1a0b07a-51f6-4fcc-acab-75ea9c29b3ac",
   "metadata": {},
   "outputs": [
    {
     "name": "stdout",
     "output_type": "stream",
     "text": [
      "Bonos anuales pivotados:\n",
      "  Nombre Ejecutivo  Total_P1_2023  Total_P1_2024  Total_P2_2023  Total_P2_2024\n",
      "0      Ejecutivo 1   6.581906e+07   8.094600e+07   1.841286e+07   1.846586e+07\n",
      "1     Ejecutivo 10   8.365202e+06   1.466077e+07   5.155840e+06   6.924218e+06\n",
      "2     Ejecutivo 11   3.267302e+06   7.462522e+06   1.402288e+06   6.536561e+06\n",
      "3     Ejecutivo 12   8.035938e+05   1.793946e+07   7.682686e+05   7.500269e+06\n",
      "4     Ejecutivo 13   7.289015e+06   2.154059e+07   4.635906e+06   1.020514e+07\n"
     ]
    }
   ],
   "source": [
    "# Pivotear los datos para tener los años como columnas\n",
    "bonos_anuales_pivot = bonos_anuales_por_año.pivot(\n",
    "    index='Nombre Ejecutivo', columns='Año', values=['Total_P1', 'Total_P2']\n",
    ").reset_index()\n",
    "\n",
    "# Ajustar los nombres de las columnas para mayor claridad\n",
    "bonos_anuales_pivot.columns = [\n",
    "    'Nombre Ejecutivo', 'Total_P1_2023', 'Total_P1_2024', 'Total_P2_2023', 'Total_P2_2024'\n",
    "]\n",
    "\n",
    "# Reemplazar NaN con 0 en caso de que algún ejecutivo no tenga datos para un año específico\n",
    "bonos_anuales_pivot.fillna(0, inplace=True)\n",
    "\n",
    "# Visualizar la estructura final pivotada\n",
    "print(\"Bonos anuales pivotados:\")\n",
    "print(bonos_anuales_pivot.head())"
   ]
  },
  {
   "cell_type": "code",
   "execution_count": 393,
   "id": "a2ad6553-494b-4529-9c1e-53a2afcb06af",
   "metadata": {},
   "outputs": [],
   "source": [
    "# Filtrar datos entre enero 2023 y diciembre 2024 para bonos mensuales totales\n",
    "filtered_bonos = ventas_mensuales[\n",
    "    (ventas_mensuales['Mes/Año'] >= '2023-01') &\n",
    "    (ventas_mensuales['Mes/Año'] <= '2024-12')\n",
    "]\n",
    "\n",
    "# Agrupar por 'Mes/Año' y calcular las sumas totales\n",
    "bonos_Totales_Mensuales = filtered_bonos.groupby('Mes/Año', as_index=False).agg({\n",
    "    'Bono Total P1': 'sum',\n",
    "    'Bono Total P2': 'sum'\n",
    "})\n"
   ]
  },
  {
   "cell_type": "code",
   "execution_count": 394,
   "id": "4699fe4e-d848-4c90-91b5-b74cc5b6db11",
   "metadata": {},
   "outputs": [
    {
     "name": "stdout",
     "output_type": "stream",
     "text": [
      "  Nombre Ejecutivo  Mes/Año  Total_factura  Total_ingreso  Clientes_operando  \\\n",
      "0      Ejecutivo 1  2023-01    653288949.0        9478906                 51   \n",
      "1      Ejecutivo 1  2023-02    629406729.0        9296944                 51   \n",
      "2      Ejecutivo 1  2023-03    754858337.0        8915311                 51   \n",
      "3      Ejecutivo 1  2023-04    940540420.0       12244313                 51   \n",
      "4      Ejecutivo 1  2023-05    874119456.0       13099361                 51   \n",
      "\n",
      "   % Bono P1      Bono P1  % Bono P2    Bono P2  Bono Fijo  Bono Total P1  \\\n",
      "0      0.006  3919733.694        0.1   947890.6     250000    4169733.694   \n",
      "1      0.006  3776440.374        0.1   929694.4     250000    4026440.374   \n",
      "2      0.006  4529150.022        0.1   891531.1     250000    4779150.022   \n",
      "3      0.006  5643242.520        0.1  1224431.3     250000    5893242.520   \n",
      "4      0.006  5244716.736        0.1  1309936.1     250000    5494716.736   \n",
      "\n",
      "   Bono Total P2   Año  \n",
      "0      1197890.6  2023  \n",
      "1      1179694.4  2023  \n",
      "2      1141531.1  2023  \n",
      "3      1474431.3  2023  \n",
      "4      1559936.1  2023  \n"
     ]
    }
   ],
   "source": [
    "print(filtered_bonos.head())"
   ]
  },
  {
   "cell_type": "code",
   "execution_count": 395,
   "id": "73bdd922-3208-4fc0-82d5-e29476bf23fb",
   "metadata": {},
   "outputs": [
    {
     "name": "stdout",
     "output_type": "stream",
     "text": [
      "\n",
      "DataFrame con las sumas anuales:\n",
      "    Periodo    Suma Anual\n",
      "0  Total_P1  1.097752e+09\n",
      "1  Total_P2  3.528330e+08\n"
     ]
    }
   ],
   "source": [
    "# Asegurarnos de que las columnas son las correctas\n",
    "# Ajusta los nombres si es necesario\n",
    "suma_totales = bonos_Totales_Mensuales[['Bono Total P1', 'Bono Total P2']].sum()\n",
    "\n",
    "# Crear un nuevo DataFrame con las sumas\n",
    "df_suma_final = pd.DataFrame({\n",
    "    'Periodo': ['Total_P1', 'Total_P2'],\n",
    "    'Suma Anual': [suma_totales['Bono Total P1'], suma_totales['Bono Total P2']]\n",
    "})\n",
    "\n",
    "# Mostrar el nuevo DataFrame\n",
    "print(\"\\nDataFrame con las sumas anuales:\")\n",
    "print(df_suma_final)"
   ]
  },
  {
   "cell_type": "code",
   "execution_count": 396,
   "id": "0749d936-70f6-499a-84b9-f7dd8948ca1e",
   "metadata": {},
   "outputs": [
    {
     "name": "stdout",
     "output_type": "stream",
     "text": [
      "El nuevo archivo 'Nuevo_Reporte.xlsx' fue creado con éxito.\n"
     ]
    }
   ],
   "source": [
    "import pandas as pd\n",
    "from openpyxl import load_workbook\n",
    "\n",
    "# Cargar la hoja específica \"Sheet1\" del archivo Excel existente\n",
    "archivo_existente = \"Ventas_filtradas.xlsx\"\n",
    "ventas_filtradas_df = pd.read_excel(archivo_existente, sheet_name=\"Sheet1\")  # Cargar la hoja Sheet1\n",
    "\n",
    "# Crear un nuevo archivo con esta hoja y otras nuevas\n",
    "nuevo_archivo = \"Nuevo_Reporte.xlsx\"\n",
    "\n",
    "# Usar pd.ExcelWriter para escribir las hojas en el nuevo archivo\n",
    "with pd.ExcelWriter(nuevo_archivo, engine='openpyxl') as writer:\n",
    "    # Agregar la hoja \"Sheet1\" con un nuevo nombre (por ejemplo, \"Base Original\")\n",
    "    ventas_filtradas_df.to_excel(writer, sheet_name='Base Original', index=False)  # Cambia 'Base Original' por el nombre que desees\n",
    "    \n",
    "    # Agregar nuevas hojas al archivo sin índices\n",
    "    propuesta_1.to_excel(writer, sheet_name='Propuesta 1', index=False)\n",
    "    propuesta_2.to_excel(writer, sheet_name='Propuesta 2', index=False)\n",
    "    clientes_operando.to_excel(writer, sheet_name='Clientes Operando', index=False)\n",
    "    ventas_mensuales.to_excel(writer, sheet_name='Bonos Mensuales Detallados', index=False)  # Cambié index=True a index=False\n",
    "    bonos_anuales_por_año.to_excel(writer, sheet_name='Lista de Bonos Anuales', index=False)  # Cambié index=True a index=False\n",
    "    bonos_anuales_pivot.to_excel(writer, sheet_name='Bonos Anuales por Ejecutivo', index=False)  # Cambié index=True a index=False\n",
    "    bonos_Totales_Mensuales.to_excel(writer, sheet_name='Bonos Totales Mensuales', index=False)  # Cambié index=True a index=False\n",
    "    df_suma_final.to_excel(writer, sheet_name='Bonos Totales Anuales', index=False)\n",
    "\n",
    "print(f\"El nuevo archivo '{nuevo_archivo}' fue creado con éxito.\")\n"
   ]
  },
  {
   "cell_type": "code",
   "execution_count": 397,
   "id": "061ae624-fe76-4637-a6a4-2479fbaa1e7b",
   "metadata": {},
   "outputs": [
    {
     "name": "stdout",
     "output_type": "stream",
     "text": [
      "Defaulting to user installation because normal site-packages is not writeable\n",
      "Looking in links: /usr/share/pip-wheels\n",
      "Requirement already satisfied: matplotlib in /opt/conda/envs/anaconda-2024.02-py310/lib/python3.10/site-packages (3.8.0)\n",
      "Requirement already satisfied: seaborn in /opt/conda/envs/anaconda-2024.02-py310/lib/python3.10/site-packages (0.12.2)\n",
      "Requirement already satisfied: contourpy>=1.0.1 in /opt/conda/envs/anaconda-2024.02-py310/lib/python3.10/site-packages (from matplotlib) (1.2.0)\n",
      "Requirement already satisfied: cycler>=0.10 in /opt/conda/envs/anaconda-2024.02-py310/lib/python3.10/site-packages (from matplotlib) (0.11.0)\n",
      "Requirement already satisfied: fonttools>=4.22.0 in /opt/conda/envs/anaconda-2024.02-py310/lib/python3.10/site-packages (from matplotlib) (4.25.0)\n",
      "Requirement already satisfied: kiwisolver>=1.0.1 in /opt/conda/envs/anaconda-2024.02-py310/lib/python3.10/site-packages (from matplotlib) (1.4.4)\n",
      "Requirement already satisfied: numpy<2,>=1.21 in /opt/conda/envs/anaconda-2024.02-py310/lib/python3.10/site-packages (from matplotlib) (1.26.4)\n",
      "Requirement already satisfied: packaging>=20.0 in /opt/conda/envs/anaconda-2024.02-py310/lib/python3.10/site-packages (from matplotlib) (23.2)\n",
      "Requirement already satisfied: pillow>=6.2.0 in /opt/conda/envs/anaconda-2024.02-py310/lib/python3.10/site-packages (from matplotlib) (10.2.0)\n",
      "Requirement already satisfied: pyparsing>=2.3.1 in /opt/conda/envs/anaconda-2024.02-py310/lib/python3.10/site-packages (from matplotlib) (3.0.9)\n",
      "Requirement already satisfied: python-dateutil>=2.7 in /opt/conda/envs/anaconda-2024.02-py310/lib/python3.10/site-packages (from matplotlib) (2.8.2)\n",
      "Requirement already satisfied: pandas>=0.25 in /home/0bcb532b-519e-4f94-8497-1198431f3b3f/.local/lib/python3.10/site-packages (from seaborn) (2.2.3)\n",
      "Requirement already satisfied: pytz>=2020.1 in /opt/conda/envs/anaconda-2024.02-py310/lib/python3.10/site-packages (from pandas>=0.25->seaborn) (2023.3.post1)\n",
      "Requirement already satisfied: tzdata>=2022.7 in /opt/conda/envs/anaconda-2024.02-py310/lib/python3.10/site-packages (from pandas>=0.25->seaborn) (2023.3)\n",
      "Requirement already satisfied: six>=1.5 in /opt/conda/envs/anaconda-2024.02-py310/lib/python3.10/site-packages (from python-dateutil>=2.7->matplotlib) (1.16.0)\n",
      "Note: you may need to restart the kernel to use updated packages.\n"
     ]
    }
   ],
   "source": [
    "pip install matplotlib seaborn"
   ]
  },
  {
   "cell_type": "code",
   "execution_count": 450,
   "id": "b88b26f4-91c7-4f05-aefc-8bcfc2498199",
   "metadata": {},
   "outputs": [
    {
     "ename": "FileNotFoundError",
     "evalue": "[Errno 2] No such file or directory: 'Final.xlsx'",
     "output_type": "error",
     "traceback": [
      "\u001b[0;31m---------------------------------------------------------------------------\u001b[0m",
      "\u001b[0;31mFileNotFoundError\u001b[0m                         Traceback (most recent call last)",
      "Cell \u001b[0;32mIn[450], line 7\u001b[0m\n\u001b[1;32m      5\u001b[0m \u001b[38;5;66;03m# Cargar la hoja \"Bonos Totales Mensuales\"\u001b[39;00m\n\u001b[1;32m      6\u001b[0m file_path \u001b[38;5;241m=\u001b[39m \u001b[38;5;124m\"\u001b[39m\u001b[38;5;124mFinal.xlsx\u001b[39m\u001b[38;5;124m\"\u001b[39m  \u001b[38;5;66;03m# Cambia este nombre si es necesario\u001b[39;00m\n\u001b[0;32m----> 7\u001b[0m bonos_totales_mensuales \u001b[38;5;241m=\u001b[39m \u001b[43mpd\u001b[49m\u001b[38;5;241;43m.\u001b[39;49m\u001b[43mread_excel\u001b[49m\u001b[43m(\u001b[49m\u001b[43mfile_path\u001b[49m\u001b[43m,\u001b[49m\u001b[43m \u001b[49m\u001b[43msheet_name\u001b[49m\u001b[38;5;241;43m=\u001b[39;49m\u001b[38;5;124;43m'\u001b[39;49m\u001b[38;5;124;43mBonos Totales Mensuales\u001b[39;49m\u001b[38;5;124;43m'\u001b[39;49m\u001b[43m)\u001b[49m\n\u001b[1;32m      9\u001b[0m \u001b[38;5;66;03m# Convertir los valores a millones\u001b[39;00m\n\u001b[1;32m     10\u001b[0m bonos_totales_mensuales[[\u001b[38;5;124m'\u001b[39m\u001b[38;5;124mBono Total P1\u001b[39m\u001b[38;5;124m'\u001b[39m, \u001b[38;5;124m'\u001b[39m\u001b[38;5;124mBono Total P2\u001b[39m\u001b[38;5;124m'\u001b[39m]] \u001b[38;5;241m/\u001b[39m\u001b[38;5;241m=\u001b[39m \u001b[38;5;241m1_000_000\u001b[39m\n",
      "File \u001b[0;32m~/.local/lib/python3.10/site-packages/pandas/io/excel/_base.py:495\u001b[0m, in \u001b[0;36mread_excel\u001b[0;34m(io, sheet_name, header, names, index_col, usecols, dtype, engine, converters, true_values, false_values, skiprows, nrows, na_values, keep_default_na, na_filter, verbose, parse_dates, date_parser, date_format, thousands, decimal, comment, skipfooter, storage_options, dtype_backend, engine_kwargs)\u001b[0m\n\u001b[1;32m    493\u001b[0m \u001b[38;5;28;01mif\u001b[39;00m \u001b[38;5;129;01mnot\u001b[39;00m \u001b[38;5;28misinstance\u001b[39m(io, ExcelFile):\n\u001b[1;32m    494\u001b[0m     should_close \u001b[38;5;241m=\u001b[39m \u001b[38;5;28;01mTrue\u001b[39;00m\n\u001b[0;32m--> 495\u001b[0m     io \u001b[38;5;241m=\u001b[39m \u001b[43mExcelFile\u001b[49m\u001b[43m(\u001b[49m\n\u001b[1;32m    496\u001b[0m \u001b[43m        \u001b[49m\u001b[43mio\u001b[49m\u001b[43m,\u001b[49m\n\u001b[1;32m    497\u001b[0m \u001b[43m        \u001b[49m\u001b[43mstorage_options\u001b[49m\u001b[38;5;241;43m=\u001b[39;49m\u001b[43mstorage_options\u001b[49m\u001b[43m,\u001b[49m\n\u001b[1;32m    498\u001b[0m \u001b[43m        \u001b[49m\u001b[43mengine\u001b[49m\u001b[38;5;241;43m=\u001b[39;49m\u001b[43mengine\u001b[49m\u001b[43m,\u001b[49m\n\u001b[1;32m    499\u001b[0m \u001b[43m        \u001b[49m\u001b[43mengine_kwargs\u001b[49m\u001b[38;5;241;43m=\u001b[39;49m\u001b[43mengine_kwargs\u001b[49m\u001b[43m,\u001b[49m\n\u001b[1;32m    500\u001b[0m \u001b[43m    \u001b[49m\u001b[43m)\u001b[49m\n\u001b[1;32m    501\u001b[0m \u001b[38;5;28;01melif\u001b[39;00m engine \u001b[38;5;129;01mand\u001b[39;00m engine \u001b[38;5;241m!=\u001b[39m io\u001b[38;5;241m.\u001b[39mengine:\n\u001b[1;32m    502\u001b[0m     \u001b[38;5;28;01mraise\u001b[39;00m \u001b[38;5;167;01mValueError\u001b[39;00m(\n\u001b[1;32m    503\u001b[0m         \u001b[38;5;124m\"\u001b[39m\u001b[38;5;124mEngine should not be specified when passing \u001b[39m\u001b[38;5;124m\"\u001b[39m\n\u001b[1;32m    504\u001b[0m         \u001b[38;5;124m\"\u001b[39m\u001b[38;5;124man ExcelFile - ExcelFile already has the engine set\u001b[39m\u001b[38;5;124m\"\u001b[39m\n\u001b[1;32m    505\u001b[0m     )\n",
      "File \u001b[0;32m~/.local/lib/python3.10/site-packages/pandas/io/excel/_base.py:1550\u001b[0m, in \u001b[0;36mExcelFile.__init__\u001b[0;34m(self, path_or_buffer, engine, storage_options, engine_kwargs)\u001b[0m\n\u001b[1;32m   1548\u001b[0m     ext \u001b[38;5;241m=\u001b[39m \u001b[38;5;124m\"\u001b[39m\u001b[38;5;124mxls\u001b[39m\u001b[38;5;124m\"\u001b[39m\n\u001b[1;32m   1549\u001b[0m \u001b[38;5;28;01melse\u001b[39;00m:\n\u001b[0;32m-> 1550\u001b[0m     ext \u001b[38;5;241m=\u001b[39m \u001b[43minspect_excel_format\u001b[49m\u001b[43m(\u001b[49m\n\u001b[1;32m   1551\u001b[0m \u001b[43m        \u001b[49m\u001b[43mcontent_or_path\u001b[49m\u001b[38;5;241;43m=\u001b[39;49m\u001b[43mpath_or_buffer\u001b[49m\u001b[43m,\u001b[49m\u001b[43m \u001b[49m\u001b[43mstorage_options\u001b[49m\u001b[38;5;241;43m=\u001b[39;49m\u001b[43mstorage_options\u001b[49m\n\u001b[1;32m   1552\u001b[0m \u001b[43m    \u001b[49m\u001b[43m)\u001b[49m\n\u001b[1;32m   1553\u001b[0m     \u001b[38;5;28;01mif\u001b[39;00m ext \u001b[38;5;129;01mis\u001b[39;00m \u001b[38;5;28;01mNone\u001b[39;00m:\n\u001b[1;32m   1554\u001b[0m         \u001b[38;5;28;01mraise\u001b[39;00m \u001b[38;5;167;01mValueError\u001b[39;00m(\n\u001b[1;32m   1555\u001b[0m             \u001b[38;5;124m\"\u001b[39m\u001b[38;5;124mExcel file format cannot be determined, you must specify \u001b[39m\u001b[38;5;124m\"\u001b[39m\n\u001b[1;32m   1556\u001b[0m             \u001b[38;5;124m\"\u001b[39m\u001b[38;5;124man engine manually.\u001b[39m\u001b[38;5;124m\"\u001b[39m\n\u001b[1;32m   1557\u001b[0m         )\n",
      "File \u001b[0;32m~/.local/lib/python3.10/site-packages/pandas/io/excel/_base.py:1402\u001b[0m, in \u001b[0;36minspect_excel_format\u001b[0;34m(content_or_path, storage_options)\u001b[0m\n\u001b[1;32m   1399\u001b[0m \u001b[38;5;28;01mif\u001b[39;00m \u001b[38;5;28misinstance\u001b[39m(content_or_path, \u001b[38;5;28mbytes\u001b[39m):\n\u001b[1;32m   1400\u001b[0m     content_or_path \u001b[38;5;241m=\u001b[39m BytesIO(content_or_path)\n\u001b[0;32m-> 1402\u001b[0m \u001b[38;5;28;01mwith\u001b[39;00m \u001b[43mget_handle\u001b[49m\u001b[43m(\u001b[49m\n\u001b[1;32m   1403\u001b[0m \u001b[43m    \u001b[49m\u001b[43mcontent_or_path\u001b[49m\u001b[43m,\u001b[49m\u001b[43m \u001b[49m\u001b[38;5;124;43m\"\u001b[39;49m\u001b[38;5;124;43mrb\u001b[39;49m\u001b[38;5;124;43m\"\u001b[39;49m\u001b[43m,\u001b[49m\u001b[43m \u001b[49m\u001b[43mstorage_options\u001b[49m\u001b[38;5;241;43m=\u001b[39;49m\u001b[43mstorage_options\u001b[49m\u001b[43m,\u001b[49m\u001b[43m \u001b[49m\u001b[43mis_text\u001b[49m\u001b[38;5;241;43m=\u001b[39;49m\u001b[38;5;28;43;01mFalse\u001b[39;49;00m\n\u001b[1;32m   1404\u001b[0m \u001b[43m\u001b[49m\u001b[43m)\u001b[49m \u001b[38;5;28;01mas\u001b[39;00m handle:\n\u001b[1;32m   1405\u001b[0m     stream \u001b[38;5;241m=\u001b[39m handle\u001b[38;5;241m.\u001b[39mhandle\n\u001b[1;32m   1406\u001b[0m     stream\u001b[38;5;241m.\u001b[39mseek(\u001b[38;5;241m0\u001b[39m)\n",
      "File \u001b[0;32m~/.local/lib/python3.10/site-packages/pandas/io/common.py:882\u001b[0m, in \u001b[0;36mget_handle\u001b[0;34m(path_or_buf, mode, encoding, compression, memory_map, is_text, errors, storage_options)\u001b[0m\n\u001b[1;32m    873\u001b[0m         handle \u001b[38;5;241m=\u001b[39m \u001b[38;5;28mopen\u001b[39m(\n\u001b[1;32m    874\u001b[0m             handle,\n\u001b[1;32m    875\u001b[0m             ioargs\u001b[38;5;241m.\u001b[39mmode,\n\u001b[0;32m   (...)\u001b[0m\n\u001b[1;32m    878\u001b[0m             newline\u001b[38;5;241m=\u001b[39m\u001b[38;5;124m\"\u001b[39m\u001b[38;5;124m\"\u001b[39m,\n\u001b[1;32m    879\u001b[0m         )\n\u001b[1;32m    880\u001b[0m     \u001b[38;5;28;01melse\u001b[39;00m:\n\u001b[1;32m    881\u001b[0m         \u001b[38;5;66;03m# Binary mode\u001b[39;00m\n\u001b[0;32m--> 882\u001b[0m         handle \u001b[38;5;241m=\u001b[39m \u001b[38;5;28;43mopen\u001b[39;49m\u001b[43m(\u001b[49m\u001b[43mhandle\u001b[49m\u001b[43m,\u001b[49m\u001b[43m \u001b[49m\u001b[43mioargs\u001b[49m\u001b[38;5;241;43m.\u001b[39;49m\u001b[43mmode\u001b[49m\u001b[43m)\u001b[49m\n\u001b[1;32m    883\u001b[0m     handles\u001b[38;5;241m.\u001b[39mappend(handle)\n\u001b[1;32m    885\u001b[0m \u001b[38;5;66;03m# Convert BytesIO or file objects passed with an encoding\u001b[39;00m\n",
      "\u001b[0;31mFileNotFoundError\u001b[0m: [Errno 2] No such file or directory: 'Final.xlsx'"
     ]
    }
   ],
   "source": [
    "import pandas as pd\n",
    "import matplotlib.pyplot as plt\n",
    "import seaborn as sns\n",
    "\n",
    "# Cargar la hoja \"Bonos Totales Mensuales\"\n",
    "file_path = \"Final.xlsx\"  # Cambia este nombre si es necesario\n",
    "bonos_totales_mensuales = pd.read_excel(file_path, sheet_name='Bonos Totales Mensuales')\n",
    "\n",
    "# Convertir los valores a millones\n",
    "bonos_totales_mensuales[['Bono Total P1', 'Bono Total P2']] /= 1_000_000\n",
    "\n",
    "# Crear el gráfico\n",
    "plt.figure(figsize=(12, 6))\n",
    "sns.barplot(\n",
    "    data=bonos_totales_mensuales.melt(id_vars='Mes/Año', value_vars=['Bono Total P1', 'Bono Total P2']),\n",
    "    x='Mes/Año',\n",
    "    y='value',\n",
    "    hue='variable',\n",
    "    palette=['#1f77b4', '#ff7f0e']  # Azul y Naranja\n",
    ")\n",
    "plt.title(\"Bonos Totales Mensuales (en millones)\", fontsize=16)\n",
    "plt.xlabel(\"Mes/Año\", fontsize=12)\n",
    "plt.ylabel(\"Bonos Totales (Millones)\", fontsize=12)\n",
    "plt.xticks(rotation=45, fontsize=10)\n",
    "plt.legend(title=\"Tipo de Bono\", fontsize=10, title_fontsize=12)\n",
    "plt.tight_layout()\n",
    "plt.show()"
   ]
  },
  {
   "cell_type": "code",
   "execution_count": 454,
   "id": "bf1cab23-0559-4ca3-a5ef-571a11fb2b89",
   "metadata": {},
   "outputs": [
    {
     "data": {
      "image/png": "[encoded data removed]",
      "text/plain": [
       "<Figure size 1200x600 with 1 Axes>"
      ]
     },
     "metadata": {},
     "output_type": "display_data"
    }
   ],
   "source": [
    "import pandas as pd\n",
    "import matplotlib.pyplot as plt\n",
    "import seaborn as sns\n",
    "\n",
    "# Cargar la hoja \"Bonos Totales Mensuales\"\n",
    "file_path = \"Nuevo_Reporte.xlsx\"  \n",
    "try:\n",
    "    bonos_totales_mensuales = pd.read_excel(file_path, sheet_name='Bonos Totales Mensuales')\n",
    "    \n",
    "    # Convertir los valores a millones\n",
    "    bonos_totales_mensuales[['Bono Total P1', 'Bono Total P2']] /= 1_000_000\n",
    "\n",
    "    # Crear el gráfico\n",
    "    plt.figure(figsize=(12, 6))\n",
    "    sns.barplot(\n",
    "        data=bonos_totales_mensuales.melt(id_vars='Mes/Año', value_vars=['Bono Total P1', 'Bono Total P2']),\n",
    "        x='Mes/Año',\n",
    "        y='value',\n",
    "        hue='variable',\n",
    "        palette=['#1f77b4', '#ff7f0e']  # Azul y Naranja\n",
    "    )\n",
    "    plt.title(\"Bonos Totales Mensuales (en millones)\", fontsize=16)\n",
    "    plt.xlabel(\"Mes/Año\", fontsize=12)\n",
    "    plt.ylabel(\"Bonos Totales (Millones)\", fontsize=12)\n",
    "    plt.xticks(rotation=45, fontsize=10)\n",
    "    plt.legend(title=\"Tipo de Bono\", fontsize=10, title_fontsize=12)\n",
    "    plt.tight_layout()\n",
    "    plt.show()\n",
    "\n"
   ]
  },
  {
   "cell_type": "code",
   "execution_count": 456,
   "id": "8add218b-6c7a-4557-80c5-6299ee044cc0",
   "metadata": {},
   "outputs": [
    {
     "data": {
      "image/png": "[encoded data removed]",
      "text/plain": [
       "<Figure size 800x600 with 1 Axes>"
      ]
     },
     "metadata": {},
     "output_type": "display_data"
    }
   ],
   "source": [
    "# Simulación de la tabla en un DataFrame\n",
    "# Cambia 'Final.xlsx' y 'Bonos Totales Anuales' según sea necesario\n",
    "try:\n",
    "    bonos_totales_anuales = pd.read_excel(file_path, sheet_name='Bonos Totales Anuales')\n",
    "\n",
    "    # Convertir los valores a millones\n",
    "    bonos_totales_anuales['Suma Anual'] /= 1_000_000\n",
    "\n",
    "    # Crear el gráfico\n",
    "    plt.figure(figsize=(8, 6))\n",
    "    sns.barplot(\n",
    "        data=bonos_totales_anuales,\n",
    "        x='Periodo',\n",
    "        y='Suma Anual',\n",
    "        palette=['#1f77b4', '#ff7f0e']  # Azul y Naranja\n",
    "    )\n",
    "    plt.title(\"Bonos Totales Anuales (en millones)\", fontsize=16)\n",
    "    plt.xlabel(\"Periodo\", fontsize=12)  # Cambié a 'Periodo'\n",
    "    plt.ylabel(\"Suma Anual (Millones)\", fontsize=12)\n",
    "    plt.xticks(rotation=0, fontsize=10)\n",
    "    plt.tight_layout()\n",
    "    plt.show()\n",
    "\n"
   ]
  },
  {
   "cell_type": "code",
   "execution_count": null,
   "id": "a8aab2f9-43f1-4cb1-8a20-3cb1aa3cfcda",
   "metadata": {},
   "outputs": [],
   "source": []
  }
 ],
 "metadata": {
  "kernelspec": {
   "display_name": "anaconda-2024.02-py310",
   "language": "python",
   "name": "conda-env-anaconda-2024.02-py310-py"
  },
  "language_info": {
   "codemirror_mode": {
    "name": "ipython",
    "version": 3
   },
   "file_extension": ".py",
   "mimetype": "text/x-python",
   "name": "python",
   "nbconvert_exporter": "python",
   "pygments_lexer": "ipython3",
   "version": "3.10.14"
  }
 },
 "nbformat": 4,
 "nbformat_minor": 5
}
