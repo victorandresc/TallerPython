{
 "cells": [
  {
   "cell_type": "markdown",
   "id": "24ab1334-5f5f-4b34-8e0f-a8dffff3117b",
   "metadata": {},
   "source": [
    "# Proyecto: Análisis de Bonos Comerciales en Profactura\n",
    "\n",
    "## Introducción\n",
    "\n",
    "**Profactura** es una empresa de factoring que opera en Chile, Perú y Colombia. En los últimos años, la empresa ha experimentado un crecimiento significativo. Sin embargo, enfrenta el desafío de la fuga de ejecutivos hacia nuevas empresas competidoras en el mercado.\n",
    "\n",
    "Gonzalo, el Gerente Comercial de la empresa, propone dos alternativas de incentivos comerciales para retener a los empleados: la **Propuesta 1** y la **Propuesta 2**.\n",
    "\n",
    "El objetivo principal del proyecto es simular los cálculos de bonos para los últimos dos años de los ejecutivos activos, comparando ambas propuestas y determinando cuál de ellas es más efectiva para retener a los ejecutivos.\n",
    "\n",
    "## Objetivos del Proyecto\n",
    "\n",
    "Los objetivos principales del proyecto son los siguientes:\n",
    "\n",
    "- **Simular el cálculo de los bonos** mensuales para los ejecutivos activos durante los últimos 2 años.\n",
    "- **Comparar los resultados** obtenidos para ambas propuestas (Propuesta 1 y Propuesta 2).\n",
    "- **Recomendar a Gonzalo** cuál de las dos alternativas debería implementarse para evitar la fuga de ejecutivos hacia la competencia.\n",
    "\n",
    "## Metodología\n",
    "\n",
    "### Carga de Datos\n",
    "\n",
    "Para realizar este análisis, se utilizaron los datos proporcionados en el archivo **Base_control_2.xlsx**, que contiene información detallada sobre las operaciones realizadas por los ejecutivos. La información relevante que se extrajo de este archivo incluye:\n",
    "\n",
    "- **Monto de factura colocada**: El monto de las facturas que cada ejecutivo ha colocado.\n",
    "- **Cantidad de clientes operando**: La cantidad de clientes con los cuales cada ejecutivo realiza operaciones mensualmente.\n",
    "- **Ingreso generado por cada factura**: El ingreso que genera cada ejecutivo por las operaciones realizadas.\n",
    "- **Otros detalles**: Información adicional sobre intereses y pagos que afectan los bonos.\n",
    "\n",
    "Una vez cargados los datos, se procedió a procesarlos para calcular los bonos según los parámetros establecidos por cada una de las propuestas."
   ]
  },
  {
   "cell_type": "code",
   "execution_count": 148,
   "id": "9b0fcbb4-46b4-44be-a7d5-6ebfc818599d",
   "metadata": {
    "collapsed": true,
    "jupyter": {
     "outputs_hidden": true
    }
   },
   "outputs": [
    {
     "name": "stdout",
     "output_type": "stream",
     "text": [
      "Defaulting to user installation because normal site-packages is not writeable\n",
      "Looking in links: /usr/share/pip-wheels\n",
      "Requirement already satisfied: pandas in /home/0bcb532b-519e-4f94-8497-1198431f3b3f/.local/lib/python3.10/site-packages (2.2.3)\n",
      "Requirement already satisfied: openpyxl in /home/0bcb532b-519e-4f94-8497-1198431f3b3f/.local/lib/python3.10/site-packages (3.1.5)\n",
      "Requirement already satisfied: numpy>=1.22.4 in /opt/conda/envs/anaconda-2024.02-py310/lib/python3.10/site-packages (from pandas) (1.26.4)\n",
      "Requirement already satisfied: python-dateutil>=2.8.2 in /opt/conda/envs/anaconda-2024.02-py310/lib/python3.10/site-packages (from pandas) (2.8.2)\n",
      "Requirement already satisfied: pytz>=2020.1 in /opt/conda/envs/anaconda-2024.02-py310/lib/python3.10/site-packages (from pandas) (2023.3.post1)\n",
      "Requirement already satisfied: tzdata>=2022.7 in /opt/conda/envs/anaconda-2024.02-py310/lib/python3.10/site-packages (from pandas) (2023.3)\n",
      "Requirement already satisfied: et-xmlfile in /opt/conda/envs/anaconda-2024.02-py310/lib/python3.10/site-packages (from openpyxl) (1.1.0)\n",
      "Requirement already satisfied: six>=1.5 in /opt/conda/envs/anaconda-2024.02-py310/lib/python3.10/site-packages (from python-dateutil>=2.8.2->pandas) (1.16.0)\n",
      "Note: you may need to restart the kernel to use updated packages.\n"
     ]
    }
   ],
   "source": [
    "pip install pandas openpyxl"
   ]
  },
  {
   "cell_type": "code",
   "execution_count": 149,
   "id": "c4b6b6f2-0b0c-431f-830f-73a9dc0e305a",
   "metadata": {},
   "outputs": [],
   "source": [
    "import pandas as pd # importamos libreria pandas"
   ]
  },
  {
   "cell_type": "code",
   "execution_count": 150,
   "id": "39d5fa3d-0c46-47eb-b954-05a4219fc35d",
   "metadata": {},
   "outputs": [],
   "source": [
    "ventas=pd.read_excel('Base_control_2.xlsx', sheet_name=\"detalle\") #importamos archivo"
   ]
  },
  {
   "cell_type": "markdown",
   "id": "44c7958d-69c6-4b30-a8a8-dd4c08b75b6d",
   "metadata": {},
   "source": [
    "## Análisis de los Datos de Bonos Comerciales\n",
    "\n",
    "El primer paso en el análisis es cargar los datos proporcionados en el archivo **`Base_control_2.xlsx`**, el cual contiene información detallada sobre las operaciones de los ejecutivos en **Profactura**. Este archivo fue cargado en Python utilizando la librería **pandas**, y los datos se extrajeron desde la hoja denominada **\"detalle\"**.\n",
    "\n",
    "### Código Utilizado\n",
    "\n",
    "Para cargar los datos desde el archivo Excel, se utilizó el siguiente código:"
   ]
  },
  {
   "cell_type": "code",
   "execution_count": 151,
   "id": "77d66658-c949-4f0b-9c3a-1d1575736f0e",
   "metadata": {},
   "outputs": [
    {
     "name": "stdout",
     "output_type": "stream",
     "text": [
      "   ID_operacion Fecha creacion operación  Monto factura  \\\n",
      "0         68101               2024-12-31      1832600.0   \n",
      "1         68100               2024-12-31       535500.0   \n",
      "2         68099               2024-12-31      2677500.0   \n",
      "3         68098               2024-12-31      1523676.0   \n",
      "4         68097               2024-12-31      5176500.0   \n",
      "\n",
      "  Nombre empresa solicitante Nombre Ejecutivo  Ingreso por operación      IVA  \\\n",
      "0                Cliente 934      Ejecutivo 5                  30055   5710.0   \n",
      "1                Cliente 934      Ejecutivo 5                   8782   1669.0   \n",
      "2                Cliente 934      Ejecutivo 5                  38556   7326.0   \n",
      "3                Cliente 934      Ejecutivo 5                  22550   4284.0   \n",
      "4                Cliente 934      Ejecutivo 5                  84895  16130.0   \n",
      "\n",
      "   Dias operación  Taa de interés a cliente  Interes  \\\n",
      "0            41.0                      1.15  28802.0   \n",
      "1            41.0                      1.15   8416.0   \n",
      "2            36.0                      1.15  36950.0   \n",
      "3            37.0                      1.15  21611.0   \n",
      "4            41.0                      1.15  81357.0   \n",
      "\n",
      "   Tasa interes inversionista  Unnamed: 11 Scoring riesgo Estado pago factura  \\\n",
      "0                         1.1          NaN            531          No Abonado   \n",
      "1                         1.1          NaN            630          No Abonado   \n",
      "2                         1.1          NaN            303          No Abonado   \n",
      "3                         1.1          NaN            531          No Abonado   \n",
      "4                         1.1          NaN            630          No Abonado   \n",
      "\n",
      "   Monto Abono  \n",
      "0          NaN  \n",
      "1          NaN  \n",
      "2          NaN  \n",
      "3          NaN  \n",
      "4          NaN  \n"
     ]
    }
   ],
   "source": [
    "print(ventas.head()) #visualizamos columnas"
   ]
  },
  {
   "cell_type": "markdown",
   "id": "71a7bb63-3d01-4e7c-999a-06ebb00f1dc7",
   "metadata": {},
   "source": [
    "## Análisis de Datos: Limpieza y Verificación de Nulos\n",
    "\n",
    "En este paso, se realizó la limpieza de los datos y se verificaron los valores nulos presentes en el archivo de datos cargado. Para ello, se utilizaron dos métodos importantes de la librería **pandas**:\n",
    "\n",
    "### Eliminación de Duplicados\n",
    "\n",
    "Para eliminar las filas duplicadas en el conjunto de datos, se utilizó el siguiente código:"
   ]
  },
  {
   "cell_type": "code",
   "execution_count": 152,
   "id": "823c3f63-fd20-4c20-86b7-5dd04f1c7f20",
   "metadata": {},
   "outputs": [],
   "source": [
    "ventas.drop_duplicates(inplace=True) #eliminamos datos duplicados "
   ]
  },
  {
   "cell_type": "code",
   "execution_count": 153,
   "id": "33c3465d-9734-453e-82ec-5d67bfaf9221",
   "metadata": {},
   "outputs": [
    {
     "data": {
      "text/plain": [
       "ID_operacion                      0\n",
       "Fecha creacion operación          2\n",
       "Monto factura                     3\n",
       "Nombre empresa solicitante        0\n",
       "Nombre Ejecutivo                  2\n",
       "Ingreso por operación             0\n",
       "IVA                            3128\n",
       "Dias operación                    2\n",
       "Taa de interés a cliente          2\n",
       "Interes                          14\n",
       "Tasa interes inversionista        2\n",
       "Unnamed: 11                   52857\n",
       "Scoring riesgo                    2\n",
       "Estado pago factura               0\n",
       "Monto Abono                    4183\n",
       "dtype: int64"
      ]
     },
     "execution_count": 153,
     "metadata": {},
     "output_type": "execute_result"
    }
   ],
   "source": [
    "ventas.isnull().sum() #visualizar datos null en columnas \n"
   ]
  },
  {
   "cell_type": "code",
   "execution_count": 154,
   "id": "1f34c2a9-84e9-4f92-9b91-011e74ba3b72",
   "metadata": {},
   "outputs": [
    {
     "data": {
      "text/plain": [
       "(52857, 15)"
      ]
     },
     "execution_count": 154,
     "metadata": {},
     "output_type": "execute_result"
    }
   ],
   "source": [
    "ventas.shape #visualizamos cantidad de filas y columnas"
   ]
  },
  {
   "cell_type": "code",
   "execution_count": 155,
   "id": "934fac0f-5f54-4ab9-a0ad-7b09b9b1cb0e",
   "metadata": {},
   "outputs": [],
   "source": [
    "ventas.drop(columns=['Unnamed: 11'], inplace=True) #eliminamos columna sin datos"
   ]
  },
  {
   "cell_type": "code",
   "execution_count": 156,
   "id": "003f762f-910b-4901-8fd5-b7bba2046fdf",
   "metadata": {},
   "outputs": [
    {
     "data": {
      "text/plain": [
       "(52857, 14)"
      ]
     },
     "execution_count": 156,
     "metadata": {},
     "output_type": "execute_result"
    }
   ],
   "source": [
    "ventas.shape #visualizamos si se elimino la columna"
   ]
  },
  {
   "cell_type": "code",
   "execution_count": 157,
   "id": "bfe47b92-4131-4fcf-91aa-7b22426bc89c",
   "metadata": {},
   "outputs": [
    {
     "data": {
      "text/plain": [
       "Index(['ID_operacion', 'Fecha creacion operación', 'Monto factura',\n",
       "       'Nombre empresa solicitante', 'Nombre Ejecutivo',\n",
       "       'Ingreso por operación', 'IVA', 'Dias operación',\n",
       "       'Taa de interés a cliente', 'Interes', 'Tasa interes inversionista',\n",
       "       'Scoring riesgo', 'Estado pago factura', 'Monto Abono'],\n",
       "      dtype='object')"
      ]
     },
     "execution_count": 157,
     "metadata": {},
     "output_type": "execute_result"
    }
   ],
   "source": [
    "ventas.columns #visualizamos columnas para comenzar a filtrar"
   ]
  },
  {
   "cell_type": "code",
   "execution_count": 158,
   "id": "ed2de466-8b99-4c66-b830-6aa26ca27201",
   "metadata": {},
   "outputs": [],
   "source": [
    "#eliminamos columnas que no utilizaremos para el analisis \n",
    "ventas.drop(columns=['IVA', 'Dias operación',\n",
    "       'Taa de interés a cliente', 'Interes', 'Tasa interes inversionista',\n",
    "       'Scoring riesgo', 'Estado pago factura', 'Monto Abono'], inplace=True, errors='ignore')"
   ]
  },
  {
   "cell_type": "code",
   "execution_count": 159,
   "id": "a4aa8704-4778-4027-8eac-cf44187ffbe5",
   "metadata": {},
   "outputs": [
    {
     "data": {
      "text/plain": [
       "Index(['ID_operacion', 'Fecha creacion operación', 'Monto factura',\n",
       "       'Nombre empresa solicitante', 'Nombre Ejecutivo',\n",
       "       'Ingreso por operación'],\n",
       "      dtype='object')"
      ]
     },
     "execution_count": 159,
     "metadata": {},
     "output_type": "execute_result"
    }
   ],
   "source": [
    "#verificamos columnas existentes\n",
    "ventas.columns"
   ]
  },
  {
   "cell_type": "markdown",
   "id": "d4925a4b-7d64-4ac5-a890-ff08d09772d8",
   "metadata": {},
   "source": [
    "## Presentación de la Propuesta: Carga, Filtrado y Preparación de los Datos\n",
    "\n",
    "### Objetivo\n",
    "\n",
    "El objetivo de estos bloques de código es limpiar y preparar los datos antes de realizar el análisis de los bonos comerciales. Los datos han sido cargados y ahora se procesan para filtrar las operaciones dentro de un rango de fechas determinado y crear las nuevas columnas necesarias para calcular los bonos de acuerdo con las dos propuestas.\n",
    "\n",
    "### **1. Conversión de Fechas y Limpieza de Columnas**"
   ]
  },
  {
   "cell_type": "code",
   "execution_count": 160,
   "id": "1c7b343f-8971-45f8-8417-cd368e467f2b",
   "metadata": {},
   "outputs": [],
   "source": [
    "# Asegúrate de convertir la columna de fechas al formato datetime\n",
    "ventas['Fecha creacion operación'] = pd.to_datetime(ventas['Fecha creacion operación'], errors='coerce')"
   ]
  },
  {
   "cell_type": "code",
   "execution_count": 161,
   "id": "358e8b1e-a642-4558-ae65-06443e7a8913",
   "metadata": {},
   "outputs": [],
   "source": [
    "# Filtrar las fechas en el rango deseado\n",
    "ventas = ventas[(ventas['Fecha creacion operación'] >= '2023-01-01') & \n",
    "                (ventas['Fecha creacion operación'] <= '2024-12-31')]"
   ]
  },
  {
   "cell_type": "code",
   "execution_count": 162,
   "id": "4e285efd-06d7-453d-83b3-a210f8e9762b",
   "metadata": {},
   "outputs": [],
   "source": [
    "# Reiniciar el índice para evitar problemas posteriores\n",
    "ventas.reset_index(drop=True, inplace=True)"
   ]
  },
  {
   "cell_type": "code",
   "execution_count": 163,
   "id": "a3324c2f-12f6-4f6b-885e-43f5784421f6",
   "metadata": {},
   "outputs": [
    {
     "name": "stdout",
     "output_type": "stream",
     "text": [
      "   ID_operacion Fecha creacion operación  Monto factura  \\\n",
      "0         68101               2024-12-31      1832600.0   \n",
      "1         68100               2024-12-31       535500.0   \n",
      "2         68099               2024-12-31      2677500.0   \n",
      "3         68098               2024-12-31      1523676.0   \n",
      "4         68097               2024-12-31      5176500.0   \n",
      "\n",
      "  Nombre empresa solicitante Nombre Ejecutivo  Ingreso por operación  \n",
      "0                Cliente 934      Ejecutivo 5                  30055  \n",
      "1                Cliente 934      Ejecutivo 5                   8782  \n",
      "2                Cliente 934      Ejecutivo 5                  38556  \n",
      "3                Cliente 934      Ejecutivo 5                  22550  \n",
      "4                Cliente 934      Ejecutivo 5                  84895  \n",
      "Datos restantes después del filtro: (33368, 6)\n"
     ]
    }
   ],
   "source": [
    "# Verificar los resultados\n",
    "print(ventas.head())\n",
    "print(f\"Datos restantes después del filtro: {ventas.shape}\")"
   ]
  },
  {
   "cell_type": "markdown",
   "id": "0183448d-ff87-40f8-8b5a-712eb54661e9",
   "metadata": {},
   "source": [
    "## Explicación del Proceso para la Propuesta 1\n",
    "\n",
    "### **1. Crear Columnas Vacías para Propuesta 1**\n",
    "Se crean columnas vacías en el DataFrame para la clasificación por valor y el bono a pagar de la Propuesta 1, asignándoles valores iniciales de 0.\n",
    "\n",
    "### **2. Verificación de las Nuevas Columnas**\n",
    "Se verifica que las columnas recién creadas estén presentes en el DataFrame para asegurar que la estructura esté correcta.\n",
    "\n",
    "### **3. Clasificación del Valor del Proyecto**\n",
    "El monto de la factura se clasifica en tres categorías (Bajo, Medio, Alto valor) con porcentajes de bono del 0.25%, 0.50% y 0.60% respectivamente.\n",
    "\n",
    "### **4. Cálculo del Bono a Pagar**\n",
    "El bono a pagar se calcula multiplicando el monto de la factura por el porcentaje correspondiente a su clasificación y se guarda en una nueva columna.\n",
    "\n",
    "### **5. Visualización de Resultados**\n",
    "Se imprime una muestra de los primeros registros del DataFrame para verificar que los cálculos y las clasificaciones se hayan realizado correctamente."
   ]
  },
  {
   "cell_type": "code",
   "execution_count": 164,
   "id": "cffecf8a-643b-45d2-8ba2-ed61af8959ae",
   "metadata": {},
   "outputs": [],
   "source": [
    "# Crear columnas vacías para Propuesta 1\n",
    "ventas['Clasificación por valor(proyecto1)'] = \"\"\n",
    "ventas['% bono respecto al valor de la factura(proyecto1)'] = 0.0\n",
    "ventas['bono_a_pagar(proyecto1)'] = 0.0\n"
   ]
  },
  {
   "cell_type": "code",
   "execution_count": 165,
   "id": "3f245998-66e7-477a-8a16-f5595503053d",
   "metadata": {},
   "outputs": [
    {
     "data": {
      "text/plain": [
       "Index(['ID_operacion', 'Fecha creacion operación', 'Monto factura',\n",
       "       'Nombre empresa solicitante', 'Nombre Ejecutivo',\n",
       "       'Ingreso por operación', 'Clasificación por valor(proyecto1)',\n",
       "       '% bono respecto al valor de la factura(proyecto1)',\n",
       "       'bono_a_pagar(proyecto1)'],\n",
       "      dtype='object')"
      ]
     },
     "execution_count": 165,
     "metadata": {},
     "output_type": "execute_result"
    }
   ],
   "source": [
    "#verificamos que se agreguen las columnas nuevas\n",
    "ventas.columns"
   ]
  },
  {
   "cell_type": "code",
   "execution_count": 166,
   "id": "a8ac8e56-1af6-4fb0-a0fa-1236f6a2d544",
   "metadata": {},
   "outputs": [],
   "source": [
    " # Clasifica el valor del proyecto basado en el monto de la factura.\n",
    "def clasificar_valor_proyecto1(monto):\n",
    "# Devuelve una categoría (Bajo, Medio, Alto) y un porcentaje de bonificación.\n",
    "    if monto < 50000000:\n",
    "        return \"Bajo valor\", 0.0025\n",
    "    elif 50000000 <= monto <= 200000000:\n",
    "        return \"Medio valor\", 0.005\n",
    "    else:\n",
    "        return \"Alto valor\", 0.006\n",
    "        \n",
    "#Desempaqueta los resultados (clasificación y porcentaje de bonificación) en dos nuevas columnas.\n",
    "ventas['Clasificación por valor(proyecto1)'], ventas['% bono respecto al valor de la factura(proyecto1)'] = zip(\n",
    "    *ventas['Monto factura'].apply(clasificar_valor_proyecto1)\n",
    ")"
   ]
  },
  {
   "cell_type": "code",
   "execution_count": 167,
   "id": "0239d60d-b5fc-467c-b939-ff53e49883b4",
   "metadata": {},
   "outputs": [
    {
     "name": "stdout",
     "output_type": "stream",
     "text": [
      "   ID_operacion Fecha creacion operación  Monto factura  \\\n",
      "0         68101               2024-12-31      1832600.0   \n",
      "1         68100               2024-12-31       535500.0   \n",
      "2         68099               2024-12-31      2677500.0   \n",
      "3         68098               2024-12-31      1523676.0   \n",
      "4         68097               2024-12-31      5176500.0   \n",
      "\n",
      "  Nombre empresa solicitante Nombre Ejecutivo  Ingreso por operación  \\\n",
      "0                Cliente 934      Ejecutivo 5                  30055   \n",
      "1                Cliente 934      Ejecutivo 5                   8782   \n",
      "2                Cliente 934      Ejecutivo 5                  38556   \n",
      "3                Cliente 934      Ejecutivo 5                  22550   \n",
      "4                Cliente 934      Ejecutivo 5                  84895   \n",
      "\n",
      "  Clasificación por valor(proyecto1)  \\\n",
      "0                         Bajo valor   \n",
      "1                         Bajo valor   \n",
      "2                         Bajo valor   \n",
      "3                         Bajo valor   \n",
      "4                         Bajo valor   \n",
      "\n",
      "   % bono respecto al valor de la factura(proyecto1)  bono_a_pagar(proyecto1)  \n",
      "0                                             0.0025                      0.0  \n",
      "1                                             0.0025                      0.0  \n",
      "2                                             0.0025                      0.0  \n",
      "3                                             0.0025                      0.0  \n",
      "4                                             0.0025                      0.0  \n"
     ]
    }
   ],
   "source": [
    "#visualizamos columnas nuevas con  valores agregadoe\n",
    "print(ventas.head()) "
   ]
  },
  {
   "cell_type": "code",
   "execution_count": 168,
   "id": "3b01f018-af5c-4280-8e8e-aa5aab12e5f9",
   "metadata": {},
   "outputs": [],
   "source": [
    "#Calcula el bono a pagar multiplicando el monto de la factura por el porcentaje correspondiente\n",
    "ventas['bono_a_pagar(proyecto1)'] = ventas['Monto factura'] * ventas['% bono respecto al valor de la factura(proyecto1)']"
   ]
  },
  {
   "cell_type": "code",
   "execution_count": 169,
   "id": "72b14e8a-a790-4804-a6b7-afb04a5c3b96",
   "metadata": {},
   "outputs": [],
   "source": [
    "#Filtra las columnas relevantes para el proyecto 1 y las almacena en el DataFrame\n",
    "propuesta_1 = ventas[['ID_operacion', 'Fecha creacion operación', 'Nombre Ejecutivo',\n",
    "                       'Clasificación por valor(proyecto1)', '% bono respecto al valor de la factura(proyecto1)',\n",
    "                       'bono_a_pagar(proyecto1)']]\n"
   ]
  },
  {
   "cell_type": "code",
   "execution_count": 170,
   "id": "61bb0ab2-3de9-47b7-ad76-4d837dd71178",
   "metadata": {},
   "outputs": [
    {
     "name": "stdout",
     "output_type": "stream",
     "text": [
      "   ID_operacion Fecha creacion operación  Monto factura  \\\n",
      "0         68101               2024-12-31      1832600.0   \n",
      "1         68100               2024-12-31       535500.0   \n",
      "2         68099               2024-12-31      2677500.0   \n",
      "3         68098               2024-12-31      1523676.0   \n",
      "4         68097               2024-12-31      5176500.0   \n",
      "\n",
      "  Nombre empresa solicitante Nombre Ejecutivo  Ingreso por operación  \\\n",
      "0                Cliente 934      Ejecutivo 5                  30055   \n",
      "1                Cliente 934      Ejecutivo 5                   8782   \n",
      "2                Cliente 934      Ejecutivo 5                  38556   \n",
      "3                Cliente 934      Ejecutivo 5                  22550   \n",
      "4                Cliente 934      Ejecutivo 5                  84895   \n",
      "\n",
      "  Clasificación por valor(proyecto1)  \\\n",
      "0                         Bajo valor   \n",
      "1                         Bajo valor   \n",
      "2                         Bajo valor   \n",
      "3                         Bajo valor   \n",
      "4                         Bajo valor   \n",
      "\n",
      "   % bono respecto al valor de la factura(proyecto1)  bono_a_pagar(proyecto1)  \n",
      "0                                             0.0025                  4581.50  \n",
      "1                                             0.0025                  1338.75  \n",
      "2                                             0.0025                  6693.75  \n",
      "3                                             0.0025                  3809.19  \n",
      "4                                             0.0025                 12941.25  \n"
     ]
    }
   ],
   "source": [
    "#Muestra los primeros registros de los DataFrames ventas\n",
    "print(ventas.head())"
   ]
  },
  {
   "cell_type": "code",
   "execution_count": 171,
   "id": "e65ce021-d162-4bce-92c3-ee5310f0215f",
   "metadata": {},
   "outputs": [
    {
     "name": "stdout",
     "output_type": "stream",
     "text": [
      "   ID_operacion Fecha creacion operación Nombre Ejecutivo  \\\n",
      "0         68101               2024-12-31      Ejecutivo 5   \n",
      "1         68100               2024-12-31      Ejecutivo 5   \n",
      "2         68099               2024-12-31      Ejecutivo 5   \n",
      "3         68098               2024-12-31      Ejecutivo 5   \n",
      "4         68097               2024-12-31      Ejecutivo 5   \n",
      "\n",
      "  Clasificación por valor(proyecto1)  \\\n",
      "0                         Bajo valor   \n",
      "1                         Bajo valor   \n",
      "2                         Bajo valor   \n",
      "3                         Bajo valor   \n",
      "4                         Bajo valor   \n",
      "\n",
      "   % bono respecto al valor de la factura(proyecto1)  bono_a_pagar(proyecto1)  \n",
      "0                                             0.0025                  4581.50  \n",
      "1                                             0.0025                  1338.75  \n",
      "2                                             0.0025                  6693.75  \n",
      "3                                             0.0025                  3809.19  \n",
      "4                                             0.0025                 12941.25  \n"
     ]
    }
   ],
   "source": [
    "#Muestra los primeros registros de los DataFrames propuesta_1\n",
    "print(propuesta_1.head())"
   ]
  },
  {
   "cell_type": "markdown",
   "id": "09132cd6-5e1e-414c-8069-f1bd81048703",
   "metadata": {},
   "source": [
    "## Explicación del Proceso para la Propuesta 2\n",
    "\n",
    "### **1. Visualización de Primeros Registros para Propuesta 1**\n",
    "Se muestra una pequeña muestra de los primeros registros de los datos de la Propuesta 1, incluyendo información de la clasificación y el bono a pagar calculado.\n",
    "\n",
    "### **2. Crear Columnas Vacías para Propuesta 2**\n",
    "Al igual que en la Propuesta 1, se crean columnas vacías para la clasificación por valor y el bono a pagar de la Propuesta 2, con valores iniciales establecidos en 0.\n",
    "\n",
    "### **3. Clasificación del Valor del Proyecto Según Ingreso**\n",
    "En esta etapa, se clasifica el valor del proyecto en tres categorías (Bajo, Medio, Alto) dependiendo del ingreso generado por el ejecutivo, con un porcentaje de bono que varía entre 5% y 10%.\n",
    "\n",
    "### **4. Cálculo del Bono a Pagar para Propuesta 2**\n",
    "El bono a pagar para la Propuesta 2 se calcula multiplicando el ingreso generado por el porcentaje correspondiente, el cual depende de la clasificación del valor del proyecto.\n",
    "\n",
    "### **5. Filtrado de Columnas Relevantes para Propuesta 2**\n",
    "Se filtran las columnas necesarias para la Propuesta 2, las cuales incluyen el ID de operación, la fecha de creación de la operación, el nombre del ejecutivo, la clasificación del valor del proyecto y el bono a pagar calculado."
   ]
  },
  {
   "cell_type": "code",
   "execution_count": 172,
   "id": "36a41714-581e-4025-90f0-a1a1dde01345",
   "metadata": {},
   "outputs": [],
   "source": [
    "# Crear columnas vacías para Propuesta 2\n",
    "ventas['Clasificación por valor(proyecto2)'] = \"\"\n",
    "ventas['% bono respecto al ingreso de la factura(proyecto2)'] = 0.0\n",
    "ventas['bono_a_pagar(proyecto2)'] = 0.0"
   ]
  },
  {
   "cell_type": "code",
   "execution_count": 173,
   "id": "e9c0d12d-c31b-4b0c-8ab5-551256cda4ef",
   "metadata": {},
   "outputs": [],
   "source": [
    "# Clasifica el valor del proyecto basado en el ingreso por operación.\n",
    "def clasificar_valor_proyecto2(ingreso):\n",
    "# Devuelve una categoría (Bajo, Medio, Alto) y un porcentaje de bonificación. \n",
    "    if ingreso < 100000:\n",
    "        return \"Bajo valor\", 0.05\n",
    "    elif 100000 <= ingreso <= 1000000:\n",
    "        return \"Medio valor\", 0.0875\n",
    "    else:\n",
    "        return \"Alto valor\", 0.1\n",
    "#Desempaqueta los resultados (clasificación y porcentaje de bonificación) en dos nuevas columnas.\n",
    "ventas['Clasificación por valor(proyecto2)'], ventas['% bono respecto al ingreso de la factura(proyecto2)'] = zip(\n",
    "    *ventas['Ingreso por operación'].apply(clasificar_valor_proyecto2)\n",
    ")"
   ]
  },
  {
   "cell_type": "code",
   "execution_count": 174,
   "id": "73094fa8-2a26-4914-bef0-b8de0ceaef72",
   "metadata": {},
   "outputs": [],
   "source": [
    "#Calcula el bono a pagar multiplicando el ingreso por operación por el porcentaje correspondiente.\n",
    "ventas['bono_a_pagar(proyecto2)'] = ventas['Ingreso por operación'] * ventas['% bono respecto al ingreso de la factura(proyecto2)']\n"
   ]
  },
  {
   "cell_type": "code",
   "execution_count": 175,
   "id": "3fdb94bc-c083-47f8-b151-385df7074348",
   "metadata": {},
   "outputs": [],
   "source": [
    "#Filtra las columnas relevantes para el proyecto 2 y las almacena en el DataFrame\n",
    "propuesta_2 = ventas[['ID_operacion', 'Fecha creacion operación', 'Nombre Ejecutivo',\n",
    "                       'Clasificación por valor(proyecto2)', '% bono respecto al ingreso de la factura(proyecto2)',\n",
    "                       'bono_a_pagar(proyecto2)']]\n"
   ]
  },
  {
   "cell_type": "code",
   "execution_count": 176,
   "id": "1d2483b4-e582-4630-a168-ab22877a4b09",
   "metadata": {},
   "outputs": [
    {
     "name": "stdout",
     "output_type": "stream",
     "text": [
      "   ID_operacion Fecha creacion operación Nombre Ejecutivo  \\\n",
      "0         68101               2024-12-31      Ejecutivo 5   \n",
      "1         68100               2024-12-31      Ejecutivo 5   \n",
      "2         68099               2024-12-31      Ejecutivo 5   \n",
      "3         68098               2024-12-31      Ejecutivo 5   \n",
      "4         68097               2024-12-31      Ejecutivo 5   \n",
      "\n",
      "  Clasificación por valor(proyecto2)  \\\n",
      "0                         Bajo valor   \n",
      "1                         Bajo valor   \n",
      "2                         Bajo valor   \n",
      "3                         Bajo valor   \n",
      "4                         Bajo valor   \n",
      "\n",
      "   % bono respecto al ingreso de la factura(proyecto2)  \\\n",
      "0                                               0.05     \n",
      "1                                               0.05     \n",
      "2                                               0.05     \n",
      "3                                               0.05     \n",
      "4                                               0.05     \n",
      "\n",
      "   bono_a_pagar(proyecto2)  \n",
      "0                  1502.75  \n",
      "1                   439.10  \n",
      "2                  1927.80  \n",
      "3                  1127.50  \n",
      "4                  4244.75  \n"
     ]
    }
   ],
   "source": [
    "#Muestra los primeros registros del DataFrame propuesta_2\n",
    "print(propuesta_2.head())"
   ]
  },
  {
   "cell_type": "markdown",
   "id": "89bef73f-8244-4cde-9ddb-5c7c98b08139",
   "metadata": {},
   "source": [
    "## Resumen del Cálculo de Bonos y la Visualización de Resultados\n",
    "\n",
    "### **4. Visualización de los Resultados**\n",
    "Al realizar el cálculo del bono a pagar para **Propuesta 1** y **Propuesta 2**, se obtiene un DataFrame que incluye la siguiente información por cada operación:\n",
    "\n",
    "- **Monto de Factura**\n",
    "- **Clasificación de cada operación (Bajo, Medio, Alto valor)** tanto para el proyecto 1 como para el proyecto 2.\n",
    "- **Porcentaje de bono respectivo** para cada propuesta según la clasificación.\n",
    "- **Monto del bono a pagar** para cada propuesta, que se calcula multiplicando el monto de la factura o ingreso por el porcentaje correspondiente.\n",
    "\n",
    "En el ejemplo proporcionado, se observa cómo se calculan los **bonos a pagar** para ambas propuestas, mostrando el **bono de Proyecto 1** y **bono de Proyecto 2** para diferentes operaciones.\n",
    "\n",
    "### **5. Verificación y Cálculo Final**\n",
    "Este proceso garantiza que todos los cálculos se realicen de manera correcta y asegura que el DataFrame esté correctamente estructurado para su análisis posterior.\n",
    "\n",
    "El cálculo final se muestra en el DataFrame, confirmando los **bonos a pagar** de cada propuesta para todos los ejecutivos involucrados en las operaciones."
   ]
  },
  {
   "cell_type": "code",
   "execution_count": 177,
   "id": "e087e6ef-fa99-4910-b731-fd460c23a0e7",
   "metadata": {},
   "outputs": [],
   "source": [
    " # Clasifica el tráfico en Bajo, Medio o Alto basado en la cantidad de clientes.\n",
    "def clasificar_trafico(cantidad):\n",
    " # Devuelve la clasificación y el bono fijo asociado.   \n",
    "    if cantidad < 8:\n",
    "        return \"Bajo tráfico\", 50000\n",
    "    elif 8 <= cantidad <= 12:\n",
    "        return \"Medio tráfico\", 120000\n",
    "    else:\n",
    "        return \"Alto tráfico\", 250000\n"
   ]
  },
  {
   "cell_type": "code",
   "execution_count": 178,
   "id": "bae321db-c8d0-4e28-b269-f23d1def0978",
   "metadata": {},
   "outputs": [
    {
     "name": "stdout",
     "output_type": "stream",
     "text": [
      "    Nombre Ejecutivo  Cantidad de clientes operando  Clasificación  \\\n",
      "0        Ejecutivo 1                             51   Alto tráfico   \n",
      "1       Ejecutivo 10                             20   Alto tráfico   \n",
      "2       Ejecutivo 11                             15   Alto tráfico   \n",
      "3       Ejecutivo 12                             19   Alto tráfico   \n",
      "4       Ejecutivo 13                             53   Alto tráfico   \n",
      "5       Ejecutivo 14                             33   Alto tráfico   \n",
      "6       Ejecutivo 15                             20   Alto tráfico   \n",
      "7       Ejecutivo 16                             10  Medio tráfico   \n",
      "8       Ejecutivo 17                             13   Alto tráfico   \n",
      "9       Ejecutivo 18                             26   Alto tráfico   \n",
      "10      Ejecutivo 19                             12  Medio tráfico   \n",
      "11       Ejecutivo 2                             81   Alto tráfico   \n",
      "12      Ejecutivo 20                             15   Alto tráfico   \n",
      "13      Ejecutivo 21                             12  Medio tráfico   \n",
      "14      Ejecutivo 22                             26   Alto tráfico   \n",
      "15      Ejecutivo 23                             12  Medio tráfico   \n",
      "16      Ejecutivo 25                              1   Bajo tráfico   \n",
      "17      Ejecutivo 26                             16   Alto tráfico   \n",
      "18      Ejecutivo 28                             20   Alto tráfico   \n",
      "19      Ejecutivo 29                             18   Alto tráfico   \n",
      "20       Ejecutivo 3                             56   Alto tráfico   \n",
      "21      Ejecutivo 30                             11  Medio tráfico   \n",
      "22      Ejecutivo 31                              8  Medio tráfico   \n",
      "23      Ejecutivo 32                              7   Bajo tráfico   \n",
      "24      Ejecutivo 33                              5   Bajo tráfico   \n",
      "25      Ejecutivo 34                              2   Bajo tráfico   \n",
      "26      Ejecutivo 35                              3   Bajo tráfico   \n",
      "27       Ejecutivo 4                             50   Alto tráfico   \n",
      "28       Ejecutivo 5                             57   Alto tráfico   \n",
      "29       Ejecutivo 6                             30   Alto tráfico   \n",
      "30       Ejecutivo 7                             19   Alto tráfico   \n",
      "31       Ejecutivo 8                             45   Alto tráfico   \n",
      "32       Ejecutivo 9                             40   Alto tráfico   \n",
      "33  Ejecutivo prueba                             28   Alto tráfico   \n",
      "\n",
      "    Bono fijo bruto  \n",
      "0            250000  \n",
      "1            250000  \n",
      "2            250000  \n",
      "3            250000  \n",
      "4            250000  \n",
      "5            250000  \n",
      "6            250000  \n",
      "7            120000  \n",
      "8            250000  \n",
      "9            250000  \n",
      "10           120000  \n",
      "11           250000  \n",
      "12           250000  \n",
      "13           120000  \n",
      "14           250000  \n",
      "15           120000  \n",
      "16            50000  \n",
      "17           250000  \n",
      "18           250000  \n",
      "19           250000  \n",
      "20           250000  \n",
      "21           120000  \n",
      "22           120000  \n",
      "23            50000  \n",
      "24            50000  \n",
      "25            50000  \n",
      "26            50000  \n",
      "27           250000  \n",
      "28           250000  \n",
      "29           250000  \n",
      "30           250000  \n",
      "31           250000  \n",
      "32           250000  \n",
      "33           250000  \n"
     ]
    }
   ],
   "source": [
    "# Crear el DataFrame clientes_operando (asegurándote de que esté definido)\n",
    "clientes_operando = ventas.groupby('Nombre Ejecutivo')['Nombre empresa solicitante'].nunique().reset_index()\n",
    "clientes_operando.columns = ['Nombre Ejecutivo', 'Cantidad de clientes operando']\n",
    "\n",
    "# Aplicar la función de clasificación al DataFrame 'clientes_operando'\n",
    "clientes_operando['Clasificación'] = clientes_operando['Cantidad de clientes operando'].apply(lambda x: clasificar_trafico(x)[0])\n",
    "clientes_operando['Bono fijo bruto'] = clientes_operando['Cantidad de clientes operando'].apply(lambda x: clasificar_trafico(x)[1])\n",
    "\n",
    "# Verificar el DataFrame resultante\n",
    "print(clientes_operando)\n"
   ]
  },
  {
   "cell_type": "code",
   "execution_count": 179,
   "id": "208c696d-70ae-471d-a994-f80cc80767dd",
   "metadata": {},
   "outputs": [
    {
     "name": "stdout",
     "output_type": "stream",
     "text": [
      "   ID_operacion Fecha creacion operación  Monto factura  \\\n",
      "0         68101               2024-12-31      1832600.0   \n",
      "1         68100               2024-12-31       535500.0   \n",
      "2         68099               2024-12-31      2677500.0   \n",
      "3         68098               2024-12-31      1523676.0   \n",
      "4         68097               2024-12-31      5176500.0   \n",
      "\n",
      "  Nombre empresa solicitante Nombre Ejecutivo  Ingreso por operación  \\\n",
      "0                Cliente 934      Ejecutivo 5                  30055   \n",
      "1                Cliente 934      Ejecutivo 5                   8782   \n",
      "2                Cliente 934      Ejecutivo 5                  38556   \n",
      "3                Cliente 934      Ejecutivo 5                  22550   \n",
      "4                Cliente 934      Ejecutivo 5                  84895   \n",
      "\n",
      "  Clasificación por valor(proyecto1)  \\\n",
      "0                         Bajo valor   \n",
      "1                         Bajo valor   \n",
      "2                         Bajo valor   \n",
      "3                         Bajo valor   \n",
      "4                         Bajo valor   \n",
      "\n",
      "   % bono respecto al valor de la factura(proyecto1)  bono_a_pagar(proyecto1)  \\\n",
      "0                                             0.0025                  4581.50   \n",
      "1                                             0.0025                  1338.75   \n",
      "2                                             0.0025                  6693.75   \n",
      "3                                             0.0025                  3809.19   \n",
      "4                                             0.0025                 12941.25   \n",
      "\n",
      "  Clasificación por valor(proyecto2)  \\\n",
      "0                         Bajo valor   \n",
      "1                         Bajo valor   \n",
      "2                         Bajo valor   \n",
      "3                         Bajo valor   \n",
      "4                         Bajo valor   \n",
      "\n",
      "   % bono respecto al ingreso de la factura(proyecto2)  \\\n",
      "0                                               0.05     \n",
      "1                                               0.05     \n",
      "2                                               0.05     \n",
      "3                                               0.05     \n",
      "4                                               0.05     \n",
      "\n",
      "   bono_a_pagar(proyecto2)  \n",
      "0                  1502.75  \n",
      "1                   439.10  \n",
      "2                  1927.80  \n",
      "3                  1127.50  \n",
      "4                  4244.75  \n"
     ]
    }
   ],
   "source": [
    "print(ventas.head())"
   ]
  },
  {
   "cell_type": "markdown",
   "id": "2b9ff6d2-c06f-4866-bb38-234ba669142b",
   "metadata": {},
   "source": [
    "### Paso 1: Crear columnas vacías para la Propuesta 1\n",
    "\n",
    "El primer paso en el procesamiento de datos para la Propuesta 1 es crear nuevas columnas vacías dentro del DataFrame que servirán para almacenar los valores calculados más adelante. Las columnas creadas son:\n",
    "\n",
    "- **'Clasificación por valor(proyecto1)'**: Esta columna almacenará la clasificación de cada proyecto basado en el valor de la factura, como \"Bajo valor\", \"Medio valor\" o \"Alto valor\".\n",
    "- **'% bono respecto al valor de la factura(proyecto1)'**: Aquí se almacenará el porcentaje que se aplicará para calcular el bono basado en la clasificación del valor de la factura.\n",
    "- **'bono_a_pagar(proyecto1)'**: En esta columna se guardará el valor final del bono a pagar según la Propuesta 1.\n",
    "\n",
    "### Paso 2: Clasificar el valor del proyecto basado en el monto de la factura\n",
    "\n",
    "Luego, se define una función **`clasificar_valor_proyecto1`** que tiene como objetivo clasificar el valor de cada proyecto según el monto de la factura. Los proyectos se dividen en tres categorías:\n",
    "\n",
    "- **Bajo valor**: Si el monto de la factura es menor a 5,000,000, se asigna un porcentaje de 0.25%.\n",
    "- **Medio valor**: Si el monto de la factura está entre 5,000,000 y 20,000,000, se asigna un porcentaje de 0.50%.\n",
    "- **Alto valor**: Si el monto de la factura supera los 20,000,000, se asigna un porcentaje de 0.60%.\n",
    "\n",
    "Esta clasificación se aplica a la columna **'Monto factura'**, y el resultado se guarda en las nuevas columnas **'Clasificación por valor(proyecto1)'** y **'% bono respecto al valor de la factura(proyecto1)'**.\n",
    "\n",
    "### Paso 3: Calcular el bono a pagar para Propuesta 1\n",
    "\n",
    "Con la clasificación del valor de la factura y el porcentaje correspondiente, ahora se calcula el bono a pagar. El bono se calcula multiplicando el monto de la factura por el porcentaje asignado según la clasificación (Bajo, Medio o Alto valor). El resultado se guarda en la columna **'bono_a_pagar(proyecto1)'**.\n",
    "\n",
    "### Paso 4: Filtrar las columnas relevantes para la Propuesta 1\n",
    "\n",
    "Una vez calculados los bonos, se filtran las columnas relevantes para la Propuesta 1 y se mantienen solo las que serán utilizadas en el análisis. Estas columnas son:\n",
    "\n",
    "- **'ID_operacion'**\n",
    "- **'Fecha creacion operación'**\n",
    "- **'Monto factura'**\n",
    "- **'Nombre Ejecutivo'**\n",
    "- **'Clasificación por valor(proyecto1)'**\n",
    "- **'% bono respecto al valor de la factura(proyecto1)'**\n",
    "- **'bono_a_pagar(proyecto1)'**\n",
    "\n",
    "Este paso asegura que el DataFrame contiene solo la información necesaria para la comparación de las propuestas.\n",
    "\n",
    "### Resumen\n",
    "\n",
    "En resumen, los primeros pasos del procesamiento de datos para la Propuesta 1 incluyen la creación de nuevas columnas vacías para almacenar los resultados de las clasificaciones y el cálculo de los bonos. Posteriormente, se clasifica cada proyecto en función del valor de la factura y se calcula el bono correspondiente. Por último, se filtran las columnas relevantes para mantener solo los datos necesarios para el análisis.\n",
    "\n",
    "Este procedimiento prepara los datos para la visualización y comparación con la Propuesta 2."
   ]
  },
  {
   "cell_type": "code",
   "execution_count": 180,
   "id": "b86b6d84-540b-4c6a-a39d-c2a654ad0a1f",
   "metadata": {},
   "outputs": [
    {
     "name": "stdout",
     "output_type": "stream",
     "text": [
      "Primeros registros después de agregar la columna 'Mes/Año':\n",
      "  Fecha creacion operación  Mes/Año\n",
      "0               2024-12-31  2024-12\n",
      "1               2024-12-31  2024-12\n",
      "2               2024-12-31  2024-12\n",
      "3               2024-12-31  2024-12\n",
      "4               2024-12-31  2024-12\n"
     ]
    }
   ],
   "source": [
    "# Crear una columna 'Mes/Año' en el DataFrame para agrupar por mes\n",
    "ventas['Mes/Año'] = ventas['Fecha creacion operación'].dt.to_period('M')\n",
    "\n",
    "# Visualizar los primeros registros de la nueva columna 'Mes/Año'\n",
    "print(\"Primeros registros después de agregar la columna 'Mes/Año':\")\n",
    "print(ventas[['Fecha creacion operación', 'Mes/Año']].head())\n"
   ]
  },
  {
   "cell_type": "code",
   "execution_count": 181,
   "id": "58a82e0e-0b74-405c-a691-65cdd2c83ef1",
   "metadata": {},
   "outputs": [
    {
     "name": "stdout",
     "output_type": "stream",
     "text": [
      "'Cantidad de clientes operando' no está en el DataFrame 'ventas'. Realizando el merge...\n"
     ]
    }
   ],
   "source": [
    "# Verificar si la columna 'Cantidad de clientes operando' está en el DataFrame ventas\n",
    "if 'Cantidad de clientes operando' not in ventas.columns:\n",
    "    print(\"'Cantidad de clientes operando' no está en el DataFrame 'ventas'. Realizando el merge...\")\n",
    "\n",
    "    # Realizar el merge con el DataFrame 'clientes_operando'\n",
    "    ventas = ventas.merge(\n",
    "        clientes_operando[['Nombre Ejecutivo', 'Cantidad de clientes operando']],\n",
    "        on='Nombre Ejecutivo',\n",
    "        how='left',\n",
    "        suffixes=('', '_duplicado')  # Sufijo para identificar duplicados\n",
    "    )\n"
   ]
  },
  {
   "cell_type": "code",
   "execution_count": 182,
   "id": "3826ad6d-ce1e-4729-b580-34c284351470",
   "metadata": {},
   "outputs": [],
   "source": [
    "# Eliminar columnas duplicadas (si existen)\n",
    "if 'Cantidad de clientes operando_duplicado' in ventas.columns:\n",
    "    print(\"Se detectó la columna 'Cantidad de clientes operando_duplicado'. Combinando valores...\")\n",
    "\n",
    "    # Combinar valores de las columnas originales y duplicadas\n",
    "    ventas['Cantidad de clientes operando'] = ventas['Cantidad de clientes operando'].fillna(\n",
    "        ventas['Cantidad de clientes operando_duplicado']\n",
    "    )\n",
    "\n",
    "    # Eliminar la columna duplicada\n",
    "    ventas.drop(columns=['Cantidad de clientes operando_duplicado'], inplace=True)\n",
    "\n"
   ]
  },
  {
   "cell_type": "code",
   "execution_count": 183,
   "id": "750816ec-6836-4e42-b260-dfb1643bbde4",
   "metadata": {},
   "outputs": [],
   "source": [
    "# Eliminar columnas innecesarias con sufijos _x e _y si aparecen\n",
    "if 'Cantidad de clientes operando_x' in ventas.columns and 'Cantidad de clientes operando_y' in ventas.columns:\n",
    "    print(\"Se detectaron columnas con sufijos '_x' y '_y'. Combinando valores...\")\n",
    "\n",
    "    # Combinar valores de las columnas\n",
    "    ventas['Cantidad de clientes operando'] = ventas['Cantidad de clientes operando_x'].combine_first(\n",
    "        ventas['Cantidad de clientes operando_y']\n",
    "    )\n",
    "\n",
    "    # Eliminar columnas con sufijos\n",
    "    ventas.drop(columns=['Cantidad de clientes operando_x', 'Cantidad de clientes operando_y'], inplace=True)\n",
    "\n"
   ]
  },
  {
   "cell_type": "code",
   "execution_count": 184,
   "id": "5b4ac12b-d97a-4bf1-afc9-0255aa49228f",
   "metadata": {},
   "outputs": [
    {
     "name": "stdout",
     "output_type": "stream",
     "text": [
      "Columnas actuales en ventas después de limpieza: Index(['ID_operacion', 'Fecha creacion operación', 'Monto factura',\n",
      "       'Nombre empresa solicitante', 'Nombre Ejecutivo',\n",
      "       'Ingreso por operación', 'Clasificación por valor(proyecto1)',\n",
      "       '% bono respecto al valor de la factura(proyecto1)',\n",
      "       'bono_a_pagar(proyecto1)', 'Clasificación por valor(proyecto2)',\n",
      "       '% bono respecto al ingreso de la factura(proyecto2)',\n",
      "       'bono_a_pagar(proyecto2)', 'Mes/Año', 'Cantidad de clientes operando'],\n",
      "      dtype='object')\n",
      "Primeros registros del DataFrame actualizado:\n",
      "   ID_operacion Fecha creacion operación  Monto factura  \\\n",
      "0         68101               2024-12-31      1832600.0   \n",
      "1         68100               2024-12-31       535500.0   \n",
      "2         68099               2024-12-31      2677500.0   \n",
      "3         68098               2024-12-31      1523676.0   \n",
      "4         68097               2024-12-31      5176500.0   \n",
      "\n",
      "  Nombre empresa solicitante Nombre Ejecutivo  Ingreso por operación  \\\n",
      "0                Cliente 934      Ejecutivo 5                  30055   \n",
      "1                Cliente 934      Ejecutivo 5                   8782   \n",
      "2                Cliente 934      Ejecutivo 5                  38556   \n",
      "3                Cliente 934      Ejecutivo 5                  22550   \n",
      "4                Cliente 934      Ejecutivo 5                  84895   \n",
      "\n",
      "  Clasificación por valor(proyecto1)  \\\n",
      "0                         Bajo valor   \n",
      "1                         Bajo valor   \n",
      "2                         Bajo valor   \n",
      "3                         Bajo valor   \n",
      "4                         Bajo valor   \n",
      "\n",
      "   % bono respecto al valor de la factura(proyecto1)  bono_a_pagar(proyecto1)  \\\n",
      "0                                             0.0025                  4581.50   \n",
      "1                                             0.0025                  1338.75   \n",
      "2                                             0.0025                  6693.75   \n",
      "3                                             0.0025                  3809.19   \n",
      "4                                             0.0025                 12941.25   \n",
      "\n",
      "  Clasificación por valor(proyecto2)  \\\n",
      "0                         Bajo valor   \n",
      "1                         Bajo valor   \n",
      "2                         Bajo valor   \n",
      "3                         Bajo valor   \n",
      "4                         Bajo valor   \n",
      "\n",
      "   % bono respecto al ingreso de la factura(proyecto2)  \\\n",
      "0                                               0.05     \n",
      "1                                               0.05     \n",
      "2                                               0.05     \n",
      "3                                               0.05     \n",
      "4                                               0.05     \n",
      "\n",
      "   bono_a_pagar(proyecto2)  Mes/Año  Cantidad de clientes operando  \n",
      "0                  1502.75  2024-12                             57  \n",
      "1                   439.10  2024-12                             57  \n",
      "2                  1927.80  2024-12                             57  \n",
      "3                  1127.50  2024-12                             57  \n",
      "4                  4244.75  2024-12                             57  \n"
     ]
    }
   ],
   "source": [
    "# Confirmar que solo queda una columna final y que está limpia\n",
    "if 'Cantidad de clientes operando' not in ventas.columns:\n",
    "    raise KeyError(\"La columna 'Cantidad de clientes operando' no se encuentra en el DataFrame ventas.\")\n",
    "\n",
    "# Imprimir columnas actuales para confirmar limpieza\n",
    "print(\"Columnas actuales en ventas después de limpieza:\", ventas.columns)\n",
    "\n",
    "# Visualizar los primeros registros del DataFrame actualizado\n",
    "print(\"Primeros registros del DataFrame actualizado:\")\n",
    "print(ventas.head())\n"
   ]
  },
  {
   "cell_type": "markdown",
   "id": "8b2fa57f-31e4-468f-aaa2-b958a371cd61",
   "metadata": {},
   "source": [
    "## Resumen del Proceso de Cálculo de Bonos\n",
    "\n",
    "### 1. Agrupación de los datos por ejecutivo y mes/año\n",
    "Los datos de ventas se agrupan por **Nombre Ejecutivo** y **Mes/Año** para obtener las sumas de:\n",
    "- **Monto de la factura**.\n",
    "- **Ingreso por operación**.\n",
    "- **Cantidad de clientes operando**.\n",
    "Este paso organiza los datos de manera mensual por ejecutivo.\n",
    "\n",
    "### 2. Repetición de la agrupación para validar los datos\n",
    "Se vuelve a agrupar por ejecutivo y mes/año para asegurar que las sumas sean consistentes y válidas antes de los cálculos de bonos.\n",
    "\n",
    "### 3. Verificación de consistencia de los datos\n",
    "Un tercer agrupamiento valida la limpieza de los datos, garantizando que no existan errores antes de continuar con los cálculos.\n",
    "\n",
    "### 4. Cálculo del Bono Propuesta 1 basado en el monto de la factura\n",
    "El bono de la **Propuesta 1** se calcula utilizando el monto de la factura, clasificado en tres categorías: **Bajo**, **Medio** y **Alto** valor, con porcentajes de 0.25%, 0.50%, y 0.60%, respectivamente.\n",
    "\n",
    "### 5. Cálculo del Bono Propuesta 2 basado en el ingreso por operación\n",
    "El bono de la **Propuesta 2** se calcula con el ingreso generado por cada ejecutivo, clasificado en **Bajo**, **Medio**, y **Alto** valor, con porcentajes de 5%, 5%, y 7.5%, respectivamente.\n",
    "\n",
    "### 6. Aplicación del Bono Fijo según la cantidad de clientes\n",
    "Se calcula un **bono fijo** basado en la cantidad de clientes que maneja cada ejecutivo. Los valores varían según el tráfico: **Bajo** (50,000), **Medio** (120,000), y **Alto** (250,000).\n",
    "\n",
    "### 7. Visualización de los bonos calculados\n",
    "Se visualizan los resultados de los bonos de ambas propuestas y el bono fijo para cada ejecutivo, asegurando que los cálculos sean correctos.\n",
    "\n",
    "### 8. Cálculo del Bono Total\n",
    "El **Bono Total** se calcula sumando el bono fijo a los bonos de las dos propuestas, proporcionando el monto total mensual a pagar por ejecutivo.\n",
    "\n",
    "### 9. Agrupación de los bonos anuales\n",
    "Se agrupan los bonos por **ejecutivo y año** para obtener el bono total anual por propuesta, sumando los bonos mensuales a lo largo del año.\n",
    "\n",
    "### 10. Pivoteo de los datos por año\n",
    "Se reorganizan los datos para mostrar los bonos anuales de cada ejecutivo por año, facilitando la comparación entre 2023 y 2024.\n",
    "\n",
    "### 11. Relleno de valores nulos\n",
    "En caso de que falten datos para algún año, se rellenan los valores nulos con 0 para evitar interrupciones en el análisis.\n",
    "\n",
    "### 12. Guardado de los resultados en Excel\n",
    "Se guardan los resultados en un archivo **Excel** llamado **Base_control_Final.xlsx**, con hojas separadas para:\n",
    "- Ventas filtradas.\n",
    "- Bonos de la **Propuesta 1** y **Propuesta 2**.\n",
    "- **Bonos Anuales**.\n",
    "Esto facilita el acceso y comparación de los resultados finales."
   ]
  },
  {
   "cell_type": "code",
   "execution_count": 185,
   "id": "5996e24d-3bf4-4f1f-81ad-4efb883928a6",
   "metadata": {},
   "outputs": [
    {
     "name": "stdout",
     "output_type": "stream",
     "text": [
      "Primeros registros de 'ventas_mensuales':\n",
      "  Nombre Ejecutivo  Mes/Año  Total_factura  Total_ingreso  Clientes_operando\n",
      "0      Ejecutivo 1  2023-01    653288949.0        9478906                 51\n",
      "1      Ejecutivo 1  2023-02    629406729.0        9296944                 51\n",
      "2      Ejecutivo 1  2023-03    754858337.0        8915311                 51\n",
      "3      Ejecutivo 1  2023-04    940540420.0       12244313                 51\n",
      "4      Ejecutivo 1  2023-05    874119456.0       13099361                 51\n"
     ]
    }
   ],
   "source": [
    "# Agrupar los datos por ejecutivo y mes/año, sumando montos relevantes\n",
    "ventas_mensuales = ventas.groupby(['Nombre Ejecutivo', 'Mes/Año']).agg(\n",
    "    Total_factura=('Monto factura', 'sum'),\n",
    "    Total_ingreso=('Ingreso por operación', 'sum'),\n",
    "    Clientes_operando=('Cantidad de clientes operando', 'max')  # Utilizar el máximo por mes\n",
    ").reset_index()\n",
    "\n",
    "# Visualizar una muestra del DataFrame agrupado\n",
    "print(\"Primeros registros de 'ventas_mensuales':\")\n",
    "print(ventas_mensuales.head())\n"
   ]
  },
  {
   "cell_type": "code",
   "execution_count": 186,
   "id": "4cf8d287-7e63-448a-ab3b-0e4c88cbdf98",
   "metadata": {},
   "outputs": [
    {
     "name": "stdout",
     "output_type": "stream",
     "text": [
      "Primeros registros de 'ventas_mensuales':\n",
      "  Nombre Ejecutivo  Mes/Año  Total_factura  Total_ingreso  Clientes_operando\n",
      "0      Ejecutivo 1  2023-01    653288949.0        9478906                 51\n",
      "1      Ejecutivo 1  2023-02    629406729.0        9296944                 51\n",
      "2      Ejecutivo 1  2023-03    754858337.0        8915311                 51\n",
      "3      Ejecutivo 1  2023-04    940540420.0       12244313                 51\n",
      "4      Ejecutivo 1  2023-05    874119456.0       13099361                 51\n"
     ]
    }
   ],
   "source": [
    "# Agrupar los datos por ejecutivo y mes/año, sumando montos relevantes\n",
    "ventas_mensuales = ventas.groupby(['Nombre Ejecutivo', 'Mes/Año']).agg(\n",
    "    Total_factura=('Monto factura', 'sum'),\n",
    "    Total_ingreso=('Ingreso por operación', 'sum'),\n",
    "    Clientes_operando=('Cantidad de clientes operando', 'max')  # Utilizar el máximo por mes\n",
    ").reset_index()\n",
    "\n",
    "# Visualizar una muestra del DataFrame agrupado\n",
    "print(\"Primeros registros de 'ventas_mensuales':\")\n",
    "print(ventas_mensuales.head())\n"
   ]
  },
  {
   "cell_type": "code",
   "execution_count": 187,
   "id": "a8065b3c-abc1-4510-bbce-900dcbde8e85",
   "metadata": {},
   "outputs": [
    {
     "name": "stdout",
     "output_type": "stream",
     "text": [
      "Primeros registros de 'ventas_mensuales':\n",
      "  Nombre Ejecutivo  Mes/Año  Total_factura  Total_ingreso  Clientes_operando\n",
      "0      Ejecutivo 1  2023-01    653288949.0        9478906                 51\n",
      "1      Ejecutivo 1  2023-02    629406729.0        9296944                 51\n",
      "2      Ejecutivo 1  2023-03    754858337.0        8915311                 51\n",
      "3      Ejecutivo 1  2023-04    940540420.0       12244313                 51\n",
      "4      Ejecutivo 1  2023-05    874119456.0       13099361                 51\n"
     ]
    }
   ],
   "source": [
    "# Agrupar los datos por ejecutivo y mes/año, sumando montos relevantes\n",
    "ventas_mensuales = ventas.groupby(['Nombre Ejecutivo', 'Mes/Año']).agg(\n",
    "    Total_factura=('Monto factura', 'sum'),\n",
    "    Total_ingreso=('Ingreso por operación', 'sum'),\n",
    "    Clientes_operando=('Cantidad de clientes operando', 'max')  # Utilizar el máximo por mes\n",
    ").reset_index()\n",
    "\n",
    "# Visualizar una muestra del DataFrame agrupado\n",
    "print(\"Primeros registros de 'ventas_mensuales':\")\n",
    "print(ventas_mensuales.head())\n"
   ]
  },
  {
   "cell_type": "code",
   "execution_count": 188,
   "id": "2d4f4a84-b631-4d37-b1f4-43b86ece5b87",
   "metadata": {},
   "outputs": [
    {
     "name": "stdout",
     "output_type": "stream",
     "text": [
      "Primeros registros de 'ventas_mensuales' después del cálculo de bonos:\n",
      "  Nombre Ejecutivo  Mes/Año  % Bono P1      Bono P1  % Bono P2    Bono P2  \\\n",
      "0      Ejecutivo 1  2023-01      0.006  3919733.694        0.1   947890.6   \n",
      "1      Ejecutivo 1  2023-02      0.006  3776440.374        0.1   929694.4   \n",
      "2      Ejecutivo 1  2023-03      0.006  4529150.022        0.1   891531.1   \n",
      "3      Ejecutivo 1  2023-04      0.006  5643242.520        0.1  1224431.3   \n",
      "4      Ejecutivo 1  2023-05      0.006  5244716.736        0.1  1309936.1   \n",
      "\n",
      "   Bono Fijo  \n",
      "0     250000  \n",
      "1     250000  \n",
      "2     250000  \n",
      "3     250000  \n",
      "4     250000  \n"
     ]
    }
   ],
   "source": [
    "# Calcular bonos según Propuesta 1\n",
    "ventas_mensuales['% Bono P1'] = ventas_mensuales['Total_factura'].apply(lambda monto: \n",
    "    0.0025 if monto < 50000000 else (0.005 if monto <= 200000000 else 0.006))\n",
    "ventas_mensuales['Bono P1'] = ventas_mensuales['Total_factura'] * ventas_mensuales['% Bono P1']\n",
    "\n",
    "# Calcular bonos según Propuesta 2\n",
    "ventas_mensuales['% Bono P2'] = ventas_mensuales['Total_ingreso'].apply(lambda ingreso: \n",
    "    0.05 if ingreso < 100000 else (0.0875 if ingreso <= 1000000 else 0.1))\n",
    "ventas_mensuales['Bono P2'] = ventas_mensuales['Total_ingreso'] * ventas_mensuales['% Bono P2']\n",
    "\n",
    "# Aplicar la función para calcular el bono fijo basado en los clientes operando\n",
    "ventas_mensuales['Bono Fijo'] = ventas_mensuales['Clientes_operando'].apply(lambda x: \n",
    "    50000 if x < 8 else (120000 if x <= 12 else 250000))\n",
    "\n",
    "# Visualizar una muestra después de calcular bonos\n",
    "print(\"Primeros registros de 'ventas_mensuales' después del cálculo de bonos:\")\n",
    "print(ventas_mensuales[['Nombre Ejecutivo', 'Mes/Año', '% Bono P1', 'Bono P1', '% Bono P2', 'Bono P2', 'Bono Fijo']].head())\n"
   ]
  },
  {
   "cell_type": "code",
   "execution_count": 189,
   "id": "5949a517-3763-418f-91e2-89c64c03ffce",
   "metadata": {},
   "outputs": [
    {
     "name": "stdout",
     "output_type": "stream",
     "text": [
      "Bonos anuales por ejecutivo y año:\n",
      "  Nombre Ejecutivo   Año      Total_P1      Total_P2\n",
      "0      Ejecutivo 1  2023  6.581906e+07  1.841286e+07\n",
      "1      Ejecutivo 1  2024  8.094600e+07  1.846586e+07\n",
      "2     Ejecutivo 10  2023  8.365202e+06  5.155840e+06\n",
      "3     Ejecutivo 10  2024  1.466077e+07  6.924218e+06\n",
      "4     Ejecutivo 11  2023  3.267302e+06  1.402288e+06\n"
     ]
    }
   ],
   "source": [
    "# Calcular el bono total para cada propuesta\n",
    "ventas_mensuales['Bono Total P1'] = ventas_mensuales['Bono P1'] + ventas_mensuales['Bono Fijo']\n",
    "ventas_mensuales['Bono Total P2'] = ventas_mensuales['Bono P2'] + ventas_mensuales['Bono Fijo']\n",
    "\n",
    "# Crear columna 'Año' para facilitar agrupaciones por año\n",
    "ventas_mensuales['Año'] = ventas_mensuales['Mes/Año'].dt.year\n",
    "\n",
    "# Agrupar por ejecutivo y año para sumar los bonos anuales por cada propuesta\n",
    "bonos_anuales_por_año = ventas_mensuales.groupby(['Nombre Ejecutivo', 'Año']).agg(\n",
    "    Total_P1=('Bono Total P1', 'sum'),\n",
    "    Total_P2=('Bono Total P2', 'sum')\n",
    ").reset_index()\n",
    "\n",
    "# Visualizar una muestra del DataFrame anual\n",
    "print(\"Bonos anuales por ejecutivo y año:\")\n",
    "print(bonos_anuales_por_año.head())\n"
   ]
  },
  {
   "cell_type": "code",
   "execution_count": 190,
   "id": "ec955ba1-8a9a-4e3b-a449-3dbeee6d6ad4",
   "metadata": {},
   "outputs": [
    {
     "name": "stdout",
     "output_type": "stream",
     "text": [
      "Bonos anuales pivotados:\n",
      "  Nombre Ejecutivo  Total_P1_2023  Total_P1_2024  Total_P2_2023  Total_P2_2024\n",
      "0      Ejecutivo 1   6.581906e+07   8.094600e+07   1.841286e+07   1.846586e+07\n",
      "1     Ejecutivo 10   8.365202e+06   1.466077e+07   5.155840e+06   6.924218e+06\n",
      "2     Ejecutivo 11   3.267302e+06   7.462522e+06   1.402288e+06   6.536561e+06\n",
      "3     Ejecutivo 12   8.035938e+05   1.793946e+07   7.682686e+05   7.500269e+06\n",
      "4     Ejecutivo 13   7.289015e+06   2.154059e+07   4.635906e+06   1.020514e+07\n"
     ]
    }
   ],
   "source": [
    "# Pivotear los datos para tener los años como columnas\n",
    "bonos_anuales_pivot = bonos_anuales_por_año.pivot(\n",
    "    index='Nombre Ejecutivo', columns='Año', values=['Total_P1', 'Total_P2']\n",
    ").reset_index()\n",
    "\n",
    "# Ajustar los nombres de las columnas para mayor claridad\n",
    "bonos_anuales_pivot.columns = [\n",
    "    'Nombre Ejecutivo', 'Total_P1_2023', 'Total_P1_2024', 'Total_P2_2023', 'Total_P2_2024'\n",
    "]\n",
    "\n",
    "# Reemplazar NaN con 0 en caso de que algún ejecutivo no tenga datos para un año específico\n",
    "bonos_anuales_pivot.fillna(0, inplace=True)\n",
    "\n",
    "# Visualizar la estructura final pivotada\n",
    "print(\"Bonos anuales pivotados:\")\n",
    "print(bonos_anuales_pivot.head())\n"
   ]
  },
  {
   "cell_type": "code",
   "execution_count": 191,
   "id": "35cd4068-6f5b-4b95-ad31-d83deb95699e",
   "metadata": {},
   "outputs": [],
   "source": [
    "# Filtrar datos entre enero 2023 y diciembre 2024 para bonos mensuales totales\n",
    "filtered_bonos = ventas_mensuales[\n",
    "    (ventas_mensuales['Mes/Año'] >= '2023-01') &\n",
    "    (ventas_mensuales['Mes/Año'] <= '2024-12')\n",
    "]\n",
    "\n",
    "# Agrupar por 'Mes/Año' y calcular las sumas totales\n",
    "bonos_Totales_Mensuales = filtered_bonos.groupby('Mes/Año', as_index=False).agg({\n",
    "    'Bono Total P1': 'sum',\n",
    "    'Bono Total P2': 'sum'\n",
    "})\n",
    "\n"
   ]
  },
  {
   "cell_type": "code",
   "execution_count": 192,
   "id": "8baed019-6b4e-464f-9ed8-228eafd30748",
   "metadata": {},
   "outputs": [
    {
     "name": "stdout",
     "output_type": "stream",
     "text": [
      "  Nombre Ejecutivo  Mes/Año  Total_factura  Total_ingreso  Clientes_operando  \\\n",
      "0      Ejecutivo 1  2023-01    653288949.0        9478906                 51   \n",
      "1      Ejecutivo 1  2023-02    629406729.0        9296944                 51   \n",
      "2      Ejecutivo 1  2023-03    754858337.0        8915311                 51   \n",
      "3      Ejecutivo 1  2023-04    940540420.0       12244313                 51   \n",
      "4      Ejecutivo 1  2023-05    874119456.0       13099361                 51   \n",
      "\n",
      "   % Bono P1      Bono P1  % Bono P2    Bono P2  Bono Fijo  Bono Total P1  \\\n",
      "0      0.006  3919733.694        0.1   947890.6     250000    4169733.694   \n",
      "1      0.006  3776440.374        0.1   929694.4     250000    4026440.374   \n",
      "2      0.006  4529150.022        0.1   891531.1     250000    4779150.022   \n",
      "3      0.006  5643242.520        0.1  1224431.3     250000    5893242.520   \n",
      "4      0.006  5244716.736        0.1  1309936.1     250000    5494716.736   \n",
      "\n",
      "   Bono Total P2   Año  \n",
      "0      1197890.6  2023  \n",
      "1      1179694.4  2023  \n",
      "2      1141531.1  2023  \n",
      "3      1474431.3  2023  \n",
      "4      1559936.1  2023  \n"
     ]
    }
   ],
   "source": [
    "print(filtered_bonos.head())"
   ]
  },
  {
   "cell_type": "code",
   "execution_count": 193,
   "id": "7d34415c-cee5-4aa9-8905-75a7ed7845c7",
   "metadata": {},
   "outputs": [
    {
     "name": "stdout",
     "output_type": "stream",
     "text": [
      "\n",
      "DataFrame con las sumas anuales:\n",
      "    Periodo    Suma Anual\n",
      "0  Total_P1  1.900999e+09\n",
      "1  Total_P2  3.912804e+08\n"
     ]
    }
   ],
   "source": [
    "# Asegurarnos de que las columnas son las correctas\n",
    "# Ajusta los nombres si es necesario\n",
    "suma_totales = bonos_Totales_Mensuales[['Bono Total P1', 'Bono Total P2']].sum()\n",
    "\n",
    "# Crear un nuevo DataFrame con las sumas\n",
    "df_suma_final = pd.DataFrame({\n",
    "    'Periodo': ['Total_P1', 'Total_P2'],\n",
    "    'Suma Anual': [suma_totales['Bono Total P1'], suma_totales['Bono Total P2']]\n",
    "})\n",
    "\n",
    "# Mostrar el nuevo DataFrame\n",
    "print(\"\\nDataFrame con las sumas anuales:\")\n",
    "print(df_suma_final)\n"
   ]
  },
  {
   "cell_type": "code",
   "execution_count": 194,
   "id": "7bce9683-417b-4978-a4c6-02b19efb35cd",
   "metadata": {},
   "outputs": [
    {
     "name": "stdout",
     "output_type": "stream",
     "text": [
      "Todos los DataFrames fueron guardados en 'Final.xlsx'.\n"
     ]
    }
   ],
   "source": [
    "# Guardar todo junto en un nuevo archivo Excel\n",
    "with pd.ExcelWriter(\"Final.xlsx\", engine='openpyxl', mode='w') as writer:\n",
    "    ventas.to_excel(writer, sheet_name='Ventas Filtradas', index=False)\n",
    "    propuesta_1.to_excel(writer, sheet_name='Propuesta 1', index=False)\n",
    "    propuesta_2.to_excel(writer, sheet_name='Propuesta 2', index=False)\n",
    "    clientes_operando.to_excel(writer, sheet_name='Clientes Operando', index=False)\n",
    "    ventas_mensuales.to_excel(writer, sheet_name='Bonos Mensuales Detallados', index=False)\n",
    "    bonos_anuales_por_año.to_excel(writer, sheet_name='Lista de Bonos Anuales', index=False)\n",
    "    bonos_anuales_pivot.to_excel(writer, sheet_name='Bonos Anuales por Ejecutivo', index=False)\n",
    "    bonos_Totales_Mensuales.to_excel(writer, sheet_name='Bonos Totales Mensuales', index=False)\n",
    "    df_suma_final.to_excel(writer, sheet_name='Bonos Totales Anuales', index=False)\n",
    "\n",
    "print(\"Todos los DataFrames fueron guardados en 'Final.xlsx'.\")\n"
   ]
  },
  {
   "cell_type": "code",
   "execution_count": 243,
   "id": "f435fedb-cec9-4a9d-9c3e-dcdfca6a1f34",
   "metadata": {
    "collapsed": true,
    "jupyter": {
     "outputs_hidden": true
    },
    "scrolled": true
   },
   "outputs": [
    {
     "name": "stdout",
     "output_type": "stream",
     "text": [
      "Defaulting to user installation because normal site-packages is not writeable\n",
      "Looking in links: /usr/share/pip-wheels\n",
      "Requirement already satisfied: matplotlib in /opt/conda/envs/anaconda-2024.02-py310/lib/python3.10/site-packages (3.8.0)\n",
      "Requirement already satisfied: seaborn in /opt/conda/envs/anaconda-2024.02-py310/lib/python3.10/site-packages (0.12.2)\n",
      "Requirement already satisfied: contourpy>=1.0.1 in /opt/conda/envs/anaconda-2024.02-py310/lib/python3.10/site-packages (from matplotlib) (1.2.0)\n",
      "Requirement already satisfied: cycler>=0.10 in /opt/conda/envs/anaconda-2024.02-py310/lib/python3.10/site-packages (from matplotlib) (0.11.0)\n",
      "Requirement already satisfied: fonttools>=4.22.0 in /opt/conda/envs/anaconda-2024.02-py310/lib/python3.10/site-packages (from matplotlib) (4.25.0)\n",
      "Requirement already satisfied: kiwisolver>=1.0.1 in /opt/conda/envs/anaconda-2024.02-py310/lib/python3.10/site-packages (from matplotlib) (1.4.4)\n",
      "Requirement already satisfied: numpy<2,>=1.21 in /opt/conda/envs/anaconda-2024.02-py310/lib/python3.10/site-packages (from matplotlib) (1.26.4)\n",
      "Requirement already satisfied: packaging>=20.0 in /opt/conda/envs/anaconda-2024.02-py310/lib/python3.10/site-packages (from matplotlib) (23.2)\n",
      "Requirement already satisfied: pillow>=6.2.0 in /opt/conda/envs/anaconda-2024.02-py310/lib/python3.10/site-packages (from matplotlib) (10.2.0)\n",
      "Requirement already satisfied: pyparsing>=2.3.1 in /opt/conda/envs/anaconda-2024.02-py310/lib/python3.10/site-packages (from matplotlib) (3.0.9)\n",
      "Requirement already satisfied: python-dateutil>=2.7 in /opt/conda/envs/anaconda-2024.02-py310/lib/python3.10/site-packages (from matplotlib) (2.8.2)\n",
      "Requirement already satisfied: pandas>=0.25 in /home/0bcb532b-519e-4f94-8497-1198431f3b3f/.local/lib/python3.10/site-packages (from seaborn) (2.2.3)\n",
      "Requirement already satisfied: pytz>=2020.1 in /opt/conda/envs/anaconda-2024.02-py310/lib/python3.10/site-packages (from pandas>=0.25->seaborn) (2023.3.post1)\n",
      "Requirement already satisfied: tzdata>=2022.7 in /opt/conda/envs/anaconda-2024.02-py310/lib/python3.10/site-packages (from pandas>=0.25->seaborn) (2023.3)\n",
      "Requirement already satisfied: six>=1.5 in /opt/conda/envs/anaconda-2024.02-py310/lib/python3.10/site-packages (from python-dateutil>=2.7->matplotlib) (1.16.0)\n",
      "Note: you may need to restart the kernel to use updated packages.\n"
     ]
    }
   ],
   "source": [
    "pip install matplotlib seaborn"
   ]
  },
  {
   "cell_type": "code",
   "execution_count": 245,
   "id": "7c2827a6-969a-4cc4-83c6-13ddad7277cc",
   "metadata": {},
   "outputs": [
    {
     "data": {
      "image/png": "[encoded data removed]",
      "text/plain": [
       "<Figure size 1200x600 with 1 Axes>"
      ]
     },
     "metadata": {},
     "output_type": "display_data"
    }
   ],
   "source": [
    "import pandas as pd\n",
    "import matplotlib.pyplot as plt\n",
    "import seaborn as sns\n",
    "\n",
    "# Cargar la hoja \"Bonos Totales Mensuales\"\n",
    "file_path = \"Final.xlsx\"  # Cambia este nombre si es necesario\n",
    "bonos_totales_mensuales = pd.read_excel(file_path, sheet_name='Bonos Totales Mensuales')\n",
    "\n",
    "# Convertir los valores a millones\n",
    "bonos_totales_mensuales[['Bono Total P1', 'Bono Total P2']] /= 1_000_000\n",
    "\n",
    "# Crear el gráfico\n",
    "plt.figure(figsize=(12, 6))\n",
    "sns.barplot(\n",
    "    data=bonos_totales_mensuales.melt(id_vars='Mes/Año', value_vars=['Bono Total P1', 'Bono Total P2']),\n",
    "    x='Mes/Año',\n",
    "    y='value',\n",
    "    hue='variable',\n",
    "    palette=['#1f77b4', '#ff7f0e']  # Azul y Naranja\n",
    ")\n",
    "plt.title(\"Bonos Totales Mensuales (en millones)\", fontsize=16)\n",
    "plt.xlabel(\"Mes/Año\", fontsize=12)\n",
    "plt.ylabel(\"Bonos Totales (Millones)\", fontsize=12)\n",
    "plt.xticks(rotation=45, fontsize=10)\n",
    "plt.legend(title=\"Tipo de Bono\", fontsize=10, title_fontsize=12)\n",
    "plt.tight_layout()\n",
    "plt.show()\n"
   ]
  },
  {
   "cell_type": "code",
   "execution_count": 251,
   "id": "c4c0a9f8-39d1-476e-8d6b-1569730696a7",
   "metadata": {},
   "outputs": [
    {
     "data": {
      "image/png": "[encoded data removed]",
      "text/plain": [
       "<Figure size 800x600 with 1 Axes>"
      ]
     },
     "metadata": {},
     "output_type": "display_data"
    }
   ],
   "source": [
    "import pandas as pd\n",
    "import matplotlib.pyplot as plt\n",
    "import seaborn as sns\n",
    "\n",
    "# Simulación de la tabla en un DataFrame\n",
    "# Si estás cargando desde Excel, usa esta línea:\n",
    "# bonos_totales_anuales = pd.read_excel(file_path, sheet_name='Bonos Totales Anuales')\n",
    "\n",
    "# Convertir los valores a millones\n",
    "bonos_totales_anuales['Suma Anual'] /= 1_000_000\n",
    "\n",
    "# Crear el gráfico\n",
    "plt.figure(figsize=(8, 6))\n",
    "sns.barplot(\n",
    "    data=bonos_totales_anuales,\n",
    "    x='Periodo',\n",
    "    y='Suma Anual',\n",
    "    palette=['#1f77b4', '#ff7f0e']  # Azul y Naranja\n",
    ")\n",
    "plt.title(\"Bonos Totales Anuales (en millones)\", fontsize=16)\n",
    "plt.xlabel(\"Tipo de Bono\", fontsize=12)\n",
    "plt.ylabel(\"Suma Anual (Millones)\", fontsize=12)\n",
    "plt.xticks(rotation=0, fontsize=10)\n",
    "plt.tight_layout()\n",
    "plt.show()\n"
   ]
  },
  {
   "cell_type": "code",
   "execution_count": null,
   "id": "b59c2ba8-8831-4374-aeaf-797fa5dda898",
   "metadata": {},
   "outputs": [],
   "source": []
  }
 ],
 "metadata": {
  "kernelspec": {
   "display_name": "Python 3 (ipykernel)",
   "language": "python",
   "name": "python3"
  },
  "language_info": {
   "codemirror_mode": {
    "name": "ipython",
    "version": 3
   },
   "file_extension": ".py",
   "mimetype": "text/x-python",
   "name": "python",
   "nbconvert_exporter": "python",
   "pygments_lexer": "ipython3",
   "version": "3.12.7"
  }
 },
 "nbformat": 4,
 "nbformat_minor": 5
}
